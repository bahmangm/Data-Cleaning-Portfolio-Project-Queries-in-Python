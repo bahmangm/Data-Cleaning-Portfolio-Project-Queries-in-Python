{
 "cells": [
  {
   "cell_type": "markdown",
   "id": "3e387485",
   "metadata": {},
   "source": [
    "# Notes:\n",
    "<strong>- In this file, we select two Excel files that have the most common fields and are ideal for merging, as they are more likely to contain similar information. Extensive cleaning is applied to all fields to remove inconsistencies, including text fields, dates, etc.\n",
    "\n",
    "<strong>- ID fields such as '#', '# 1', and 'Number' are not useful for connecting records across different files, so they can be removed. A unique ID can be created for each record at the end.\n",
    "\n",
    "<strong>- Before applying the algorithm to remove inconsistencies in a field, we need to check its type (e.g., date, signed numbers). The expression \"re.sub(r'[^a-zA-Z0-9]+', '', str(x)).lower()\" does not work for 'date' fields or values like '3.2' and '-3.2'."
   ]
  },
  {
   "cell_type": "markdown",
   "id": "c072b83d-432a-4924-a9af-73dd03063a99",
   "metadata": {
    "heading_collapsed": true,
    "jp-MarkdownHeadingCollapsed": true
   },
   "source": [
    "# Check the merging part of the procedure on small dataframes to make sure it works"
   ]
  },
  {
   "cell_type": "code",
   "execution_count": 52,
   "id": "ec26eeac",
   "metadata": {
    "ExecuteTime": {
     "end_time": "2023-12-03T17:06:14.308495Z",
     "start_time": "2023-12-03T17:06:14.304906Z"
    },
    "hidden": true
   },
   "outputs": [],
   "source": [
    "d1 = pd.DataFrame({'c1': [5,6,7,4,9], 'c2': [1,2,7,5,5], 'c3': ['a','b','v','t','t']})"
   ]
  },
  {
   "cell_type": "code",
   "execution_count": 53,
   "id": "2d2586c7",
   "metadata": {
    "ExecuteTime": {
     "end_time": "2023-12-03T17:06:15.076794Z",
     "start_time": "2023-12-03T17:06:15.070929Z"
    },
    "hidden": true
   },
   "outputs": [
    {
     "data": {
      "text/html": [
       "<div>\n",
       "<style scoped>\n",
       "    .dataframe tbody tr th:only-of-type {\n",
       "        vertical-align: middle;\n",
       "    }\n",
       "\n",
       "    .dataframe tbody tr th {\n",
       "        vertical-align: top;\n",
       "    }\n",
       "\n",
       "    .dataframe thead th {\n",
       "        text-align: right;\n",
       "    }\n",
       "</style>\n",
       "<table border=\"1\" class=\"dataframe\">\n",
       "  <thead>\n",
       "    <tr style=\"text-align: right;\">\n",
       "      <th></th>\n",
       "      <th>c1</th>\n",
       "      <th>c2</th>\n",
       "      <th>c3</th>\n",
       "    </tr>\n",
       "  </thead>\n",
       "  <tbody>\n",
       "    <tr>\n",
       "      <th>0</th>\n",
       "      <td>5</td>\n",
       "      <td>1</td>\n",
       "      <td>a</td>\n",
       "    </tr>\n",
       "    <tr>\n",
       "      <th>1</th>\n",
       "      <td>6</td>\n",
       "      <td>2</td>\n",
       "      <td>b</td>\n",
       "    </tr>\n",
       "    <tr>\n",
       "      <th>2</th>\n",
       "      <td>7</td>\n",
       "      <td>7</td>\n",
       "      <td>v</td>\n",
       "    </tr>\n",
       "    <tr>\n",
       "      <th>3</th>\n",
       "      <td>4</td>\n",
       "      <td>5</td>\n",
       "      <td>t</td>\n",
       "    </tr>\n",
       "    <tr>\n",
       "      <th>4</th>\n",
       "      <td>9</td>\n",
       "      <td>5</td>\n",
       "      <td>t</td>\n",
       "    </tr>\n",
       "  </tbody>\n",
       "</table>\n",
       "</div>"
      ],
      "text/plain": [
       "   c1  c2 c3\n",
       "0   5   1  a\n",
       "1   6   2  b\n",
       "2   7   7  v\n",
       "3   4   5  t\n",
       "4   9   5  t"
      ]
     },
     "execution_count": 53,
     "metadata": {},
     "output_type": "execute_result"
    }
   ],
   "source": [
    "d1"
   ]
  },
  {
   "cell_type": "code",
   "execution_count": 54,
   "id": "8f5e6af8",
   "metadata": {
    "ExecuteTime": {
     "end_time": "2023-12-03T17:06:16.311297Z",
     "start_time": "2023-12-03T17:06:16.308195Z"
    },
    "hidden": true
   },
   "outputs": [],
   "source": [
    "d2 = pd.DataFrame({'c2': [1,2, 2,3,5,66, 66], 'c3': ['a','b','b','v','t','yy','yy'], 'c4': [1.2,99,1.6,4.3,6.4,87.8, 100]})"
   ]
  },
  {
   "cell_type": "code",
   "execution_count": 55,
   "id": "b5a0f6d2",
   "metadata": {
    "ExecuteTime": {
     "end_time": "2023-12-03T17:06:16.911383Z",
     "start_time": "2023-12-03T17:06:16.904770Z"
    },
    "hidden": true
   },
   "outputs": [
    {
     "data": {
      "text/html": [
       "<div>\n",
       "<style scoped>\n",
       "    .dataframe tbody tr th:only-of-type {\n",
       "        vertical-align: middle;\n",
       "    }\n",
       "\n",
       "    .dataframe tbody tr th {\n",
       "        vertical-align: top;\n",
       "    }\n",
       "\n",
       "    .dataframe thead th {\n",
       "        text-align: right;\n",
       "    }\n",
       "</style>\n",
       "<table border=\"1\" class=\"dataframe\">\n",
       "  <thead>\n",
       "    <tr style=\"text-align: right;\">\n",
       "      <th></th>\n",
       "      <th>c2</th>\n",
       "      <th>c3</th>\n",
       "      <th>c4</th>\n",
       "    </tr>\n",
       "  </thead>\n",
       "  <tbody>\n",
       "    <tr>\n",
       "      <th>0</th>\n",
       "      <td>1</td>\n",
       "      <td>a</td>\n",
       "      <td>1.2</td>\n",
       "    </tr>\n",
       "    <tr>\n",
       "      <th>1</th>\n",
       "      <td>2</td>\n",
       "      <td>b</td>\n",
       "      <td>99.0</td>\n",
       "    </tr>\n",
       "    <tr>\n",
       "      <th>2</th>\n",
       "      <td>2</td>\n",
       "      <td>b</td>\n",
       "      <td>1.6</td>\n",
       "    </tr>\n",
       "    <tr>\n",
       "      <th>3</th>\n",
       "      <td>3</td>\n",
       "      <td>v</td>\n",
       "      <td>4.3</td>\n",
       "    </tr>\n",
       "    <tr>\n",
       "      <th>4</th>\n",
       "      <td>5</td>\n",
       "      <td>t</td>\n",
       "      <td>6.4</td>\n",
       "    </tr>\n",
       "    <tr>\n",
       "      <th>5</th>\n",
       "      <td>66</td>\n",
       "      <td>yy</td>\n",
       "      <td>87.8</td>\n",
       "    </tr>\n",
       "    <tr>\n",
       "      <th>6</th>\n",
       "      <td>66</td>\n",
       "      <td>yy</td>\n",
       "      <td>100.0</td>\n",
       "    </tr>\n",
       "  </tbody>\n",
       "</table>\n",
       "</div>"
      ],
      "text/plain": [
       "   c2  c3     c4\n",
       "0   1   a    1.2\n",
       "1   2   b   99.0\n",
       "2   2   b    1.6\n",
       "3   3   v    4.3\n",
       "4   5   t    6.4\n",
       "5  66  yy   87.8\n",
       "6  66  yy  100.0"
      ]
     },
     "execution_count": 55,
     "metadata": {},
     "output_type": "execute_result"
    }
   ],
   "source": [
    "d2"
   ]
  },
  {
   "cell_type": "code",
   "execution_count": 21,
   "id": "89947afd",
   "metadata": {
    "ExecuteTime": {
     "end_time": "2023-12-02T14:53:26.838012Z",
     "start_time": "2023-12-02T14:53:26.832066Z"
    },
    "hidden": true
   },
   "outputs": [
    {
     "data": {
      "text/html": [
       "<div>\n",
       "<style scoped>\n",
       "    .dataframe tbody tr th:only-of-type {\n",
       "        vertical-align: middle;\n",
       "    }\n",
       "\n",
       "    .dataframe tbody tr th {\n",
       "        vertical-align: top;\n",
       "    }\n",
       "\n",
       "    .dataframe thead th {\n",
       "        text-align: right;\n",
       "    }\n",
       "</style>\n",
       "<table border=\"1\" class=\"dataframe\">\n",
       "  <thead>\n",
       "    <tr style=\"text-align: right;\">\n",
       "      <th></th>\n",
       "      <th>c2</th>\n",
       "      <th>c3</th>\n",
       "    </tr>\n",
       "  </thead>\n",
       "  <tbody>\n",
       "    <tr>\n",
       "      <th>0</th>\n",
       "      <td>1</td>\n",
       "      <td>a</td>\n",
       "    </tr>\n",
       "    <tr>\n",
       "      <th>1</th>\n",
       "      <td>2</td>\n",
       "      <td>b</td>\n",
       "    </tr>\n",
       "    <tr>\n",
       "      <th>2</th>\n",
       "      <td>2</td>\n",
       "      <td>b</td>\n",
       "    </tr>\n",
       "    <tr>\n",
       "      <th>3</th>\n",
       "      <td>3</td>\n",
       "      <td>v</td>\n",
       "    </tr>\n",
       "    <tr>\n",
       "      <th>4</th>\n",
       "      <td>5</td>\n",
       "      <td>t</td>\n",
       "    </tr>\n",
       "    <tr>\n",
       "      <th>5</th>\n",
       "      <td>66</td>\n",
       "      <td>yy</td>\n",
       "    </tr>\n",
       "    <tr>\n",
       "      <th>6</th>\n",
       "      <td>66</td>\n",
       "      <td>yy</td>\n",
       "    </tr>\n",
       "  </tbody>\n",
       "</table>\n",
       "</div>"
      ],
      "text/plain": [
       "   c2  c3\n",
       "0   1   a\n",
       "1   2   b\n",
       "2   2   b\n",
       "3   3   v\n",
       "4   5   t\n",
       "5  66  yy\n",
       "6  66  yy"
      ]
     },
     "execution_count": 21,
     "metadata": {},
     "output_type": "execute_result"
    }
   ],
   "source": [
    "d2[['c2', 'c3']]"
   ]
  },
  {
   "cell_type": "code",
   "execution_count": 56,
   "id": "a95e1eaa",
   "metadata": {
    "ExecuteTime": {
     "end_time": "2023-12-03T17:06:30.936789Z",
     "start_time": "2023-12-03T17:06:30.928727Z"
    },
    "hidden": true
   },
   "outputs": [
    {
     "data": {
      "text/html": [
       "<div>\n",
       "<style scoped>\n",
       "    .dataframe tbody tr th:only-of-type {\n",
       "        vertical-align: middle;\n",
       "    }\n",
       "\n",
       "    .dataframe tbody tr th {\n",
       "        vertical-align: top;\n",
       "    }\n",
       "\n",
       "    .dataframe thead th {\n",
       "        text-align: right;\n",
       "    }\n",
       "</style>\n",
       "<table border=\"1\" class=\"dataframe\">\n",
       "  <thead>\n",
       "    <tr style=\"text-align: right;\">\n",
       "      <th></th>\n",
       "      <th>c2</th>\n",
       "      <th>c3</th>\n",
       "    </tr>\n",
       "  </thead>\n",
       "  <tbody>\n",
       "    <tr>\n",
       "      <th>0</th>\n",
       "      <td>1</td>\n",
       "      <td>a</td>\n",
       "    </tr>\n",
       "    <tr>\n",
       "      <th>1</th>\n",
       "      <td>2</td>\n",
       "      <td>b</td>\n",
       "    </tr>\n",
       "    <tr>\n",
       "      <th>2</th>\n",
       "      <td>2</td>\n",
       "      <td>b</td>\n",
       "    </tr>\n",
       "    <tr>\n",
       "      <th>3</th>\n",
       "      <td>7</td>\n",
       "      <td>v</td>\n",
       "    </tr>\n",
       "    <tr>\n",
       "      <th>4</th>\n",
       "      <td>5</td>\n",
       "      <td>t</td>\n",
       "    </tr>\n",
       "    <tr>\n",
       "      <th>5</th>\n",
       "      <td>5</td>\n",
       "      <td>t</td>\n",
       "    </tr>\n",
       "    <tr>\n",
       "      <th>6</th>\n",
       "      <td>3</td>\n",
       "      <td>v</td>\n",
       "    </tr>\n",
       "    <tr>\n",
       "      <th>7</th>\n",
       "      <td>66</td>\n",
       "      <td>yy</td>\n",
       "    </tr>\n",
       "    <tr>\n",
       "      <th>8</th>\n",
       "      <td>66</td>\n",
       "      <td>yy</td>\n",
       "    </tr>\n",
       "  </tbody>\n",
       "</table>\n",
       "</div>"
      ],
      "text/plain": [
       "   c2  c3\n",
       "0   1   a\n",
       "1   2   b\n",
       "2   2   b\n",
       "3   7   v\n",
       "4   5   t\n",
       "5   5   t\n",
       "6   3   v\n",
       "7  66  yy\n",
       "8  66  yy"
      ]
     },
     "execution_count": 56,
     "metadata": {},
     "output_type": "execute_result"
    }
   ],
   "source": [
    "d1[['c2', 'c3']].merge(d2[['c2', 'c3']], how='outer', on=['c2', 'c3'])"
   ]
  },
  {
   "cell_type": "code",
   "execution_count": 23,
   "id": "447a1667",
   "metadata": {
    "ExecuteTime": {
     "end_time": "2023-12-02T14:54:09.313883Z",
     "start_time": "2023-12-02T14:54:09.301455Z"
    },
    "hidden": true
   },
   "outputs": [
    {
     "data": {
      "text/html": [
       "<div>\n",
       "<style scoped>\n",
       "    .dataframe tbody tr th:only-of-type {\n",
       "        vertical-align: middle;\n",
       "    }\n",
       "\n",
       "    .dataframe tbody tr th {\n",
       "        vertical-align: top;\n",
       "    }\n",
       "\n",
       "    .dataframe thead th {\n",
       "        text-align: right;\n",
       "    }\n",
       "</style>\n",
       "<table border=\"1\" class=\"dataframe\">\n",
       "  <thead>\n",
       "    <tr style=\"text-align: right;\">\n",
       "      <th></th>\n",
       "      <th>c2</th>\n",
       "      <th>c3</th>\n",
       "    </tr>\n",
       "  </thead>\n",
       "  <tbody>\n",
       "    <tr>\n",
       "      <th>0</th>\n",
       "      <td>1</td>\n",
       "      <td>a</td>\n",
       "    </tr>\n",
       "    <tr>\n",
       "      <th>1</th>\n",
       "      <td>2</td>\n",
       "      <td>b</td>\n",
       "    </tr>\n",
       "    <tr>\n",
       "      <th>2</th>\n",
       "      <td>2</td>\n",
       "      <td>b</td>\n",
       "    </tr>\n",
       "    <tr>\n",
       "      <th>3</th>\n",
       "      <td>7</td>\n",
       "      <td>v</td>\n",
       "    </tr>\n",
       "    <tr>\n",
       "      <th>4</th>\n",
       "      <td>5</td>\n",
       "      <td>t</td>\n",
       "    </tr>\n",
       "    <tr>\n",
       "      <th>5</th>\n",
       "      <td>5</td>\n",
       "      <td>t</td>\n",
       "    </tr>\n",
       "  </tbody>\n",
       "</table>\n",
       "</div>"
      ],
      "text/plain": [
       "   c2 c3\n",
       "0   1  a\n",
       "1   2  b\n",
       "2   2  b\n",
       "3   7  v\n",
       "4   5  t\n",
       "5   5  t"
      ]
     },
     "execution_count": 23,
     "metadata": {},
     "output_type": "execute_result"
    }
   ],
   "source": [
    "d1[['c2', 'c3']].merge(d2[['c2', 'c3']], how='left', on=['c2', 'c3'])"
   ]
  },
  {
   "cell_type": "code",
   "execution_count": 24,
   "id": "8635909d",
   "metadata": {
    "ExecuteTime": {
     "end_time": "2023-12-02T14:54:16.934215Z",
     "start_time": "2023-12-02T14:54:16.914864Z"
    },
    "hidden": true
   },
   "outputs": [
    {
     "data": {
      "text/html": [
       "<div>\n",
       "<style scoped>\n",
       "    .dataframe tbody tr th:only-of-type {\n",
       "        vertical-align: middle;\n",
       "    }\n",
       "\n",
       "    .dataframe tbody tr th {\n",
       "        vertical-align: top;\n",
       "    }\n",
       "\n",
       "    .dataframe thead th {\n",
       "        text-align: right;\n",
       "    }\n",
       "</style>\n",
       "<table border=\"1\" class=\"dataframe\">\n",
       "  <thead>\n",
       "    <tr style=\"text-align: right;\">\n",
       "      <th></th>\n",
       "      <th>c2</th>\n",
       "      <th>c3</th>\n",
       "    </tr>\n",
       "  </thead>\n",
       "  <tbody>\n",
       "    <tr>\n",
       "      <th>0</th>\n",
       "      <td>1</td>\n",
       "      <td>a</td>\n",
       "    </tr>\n",
       "    <tr>\n",
       "      <th>1</th>\n",
       "      <td>2</td>\n",
       "      <td>b</td>\n",
       "    </tr>\n",
       "    <tr>\n",
       "      <th>3</th>\n",
       "      <td>7</td>\n",
       "      <td>v</td>\n",
       "    </tr>\n",
       "    <tr>\n",
       "      <th>4</th>\n",
       "      <td>5</td>\n",
       "      <td>t</td>\n",
       "    </tr>\n",
       "    <tr>\n",
       "      <th>6</th>\n",
       "      <td>3</td>\n",
       "      <td>v</td>\n",
       "    </tr>\n",
       "    <tr>\n",
       "      <th>7</th>\n",
       "      <td>66</td>\n",
       "      <td>yy</td>\n",
       "    </tr>\n",
       "  </tbody>\n",
       "</table>\n",
       "</div>"
      ],
      "text/plain": [
       "   c2  c3\n",
       "0   1   a\n",
       "1   2   b\n",
       "3   7   v\n",
       "4   5   t\n",
       "6   3   v\n",
       "7  66  yy"
      ]
     },
     "execution_count": 24,
     "metadata": {},
     "output_type": "execute_result"
    }
   ],
   "source": [
    "a = d1[['c2', 'c3']].merge(d2[['c2', 'c3']], how='outer', on=['c2', 'c3'])\n",
    "a[~a.duplicated()]"
   ]
  },
  {
   "cell_type": "code",
   "execution_count": 59,
   "id": "a56fc0bd",
   "metadata": {
    "ExecuteTime": {
     "end_time": "2023-12-03T17:09:19.920107Z",
     "start_time": "2023-12-03T17:09:19.910521Z"
    },
    "hidden": true
   },
   "outputs": [
    {
     "data": {
      "text/html": [
       "<div>\n",
       "<style scoped>\n",
       "    .dataframe tbody tr th:only-of-type {\n",
       "        vertical-align: middle;\n",
       "    }\n",
       "\n",
       "    .dataframe tbody tr th {\n",
       "        vertical-align: top;\n",
       "    }\n",
       "\n",
       "    .dataframe thead th {\n",
       "        text-align: right;\n",
       "    }\n",
       "</style>\n",
       "<table border=\"1\" class=\"dataframe\">\n",
       "  <thead>\n",
       "    <tr style=\"text-align: right;\">\n",
       "      <th></th>\n",
       "      <th>c2</th>\n",
       "      <th>c3</th>\n",
       "    </tr>\n",
       "  </thead>\n",
       "  <tbody>\n",
       "    <tr>\n",
       "      <th>0</th>\n",
       "      <td>1</td>\n",
       "      <td>a</td>\n",
       "    </tr>\n",
       "    <tr>\n",
       "      <th>1</th>\n",
       "      <td>2</td>\n",
       "      <td>b</td>\n",
       "    </tr>\n",
       "    <tr>\n",
       "      <th>2</th>\n",
       "      <td>2</td>\n",
       "      <td>b</td>\n",
       "    </tr>\n",
       "    <tr>\n",
       "      <th>3</th>\n",
       "      <td>7</td>\n",
       "      <td>v</td>\n",
       "    </tr>\n",
       "    <tr>\n",
       "      <th>4</th>\n",
       "      <td>5</td>\n",
       "      <td>t</td>\n",
       "    </tr>\n",
       "    <tr>\n",
       "      <th>5</th>\n",
       "      <td>5</td>\n",
       "      <td>t</td>\n",
       "    </tr>\n",
       "    <tr>\n",
       "      <th>6</th>\n",
       "      <td>3</td>\n",
       "      <td>v</td>\n",
       "    </tr>\n",
       "    <tr>\n",
       "      <th>7</th>\n",
       "      <td>66</td>\n",
       "      <td>yy</td>\n",
       "    </tr>\n",
       "    <tr>\n",
       "      <th>8</th>\n",
       "      <td>66</td>\n",
       "      <td>yy</td>\n",
       "    </tr>\n",
       "  </tbody>\n",
       "</table>\n",
       "</div>"
      ],
      "text/plain": [
       "   c2  c3\n",
       "0   1   a\n",
       "1   2   b\n",
       "2   2   b\n",
       "3   7   v\n",
       "4   5   t\n",
       "5   5   t\n",
       "6   3   v\n",
       "7  66  yy\n",
       "8  66  yy"
      ]
     },
     "execution_count": 59,
     "metadata": {},
     "output_type": "execute_result"
    }
   ],
   "source": [
    "d1.merge(d2, how='outer', on=['c2', 'c3'])[['c2', 'c3']]"
   ]
  },
  {
   "cell_type": "code",
   "execution_count": 27,
   "id": "8bd1390d",
   "metadata": {
    "ExecuteTime": {
     "end_time": "2023-12-02T14:57:47.665703Z",
     "start_time": "2023-12-02T14:57:47.660812Z"
    },
    "hidden": true
   },
   "outputs": [
    {
     "data": {
      "text/plain": [
       "(4, 3)"
      ]
     },
     "execution_count": 27,
     "metadata": {},
     "output_type": "execute_result"
    }
   ],
   "source": [
    "d1[~d1[['c2', 'c3']].duplicated()].shape"
   ]
  },
  {
   "cell_type": "code",
   "execution_count": 28,
   "id": "0fe135c5",
   "metadata": {
    "ExecuteTime": {
     "end_time": "2023-12-02T14:57:51.841597Z",
     "start_time": "2023-12-02T14:57:51.838565Z"
    },
    "hidden": true
   },
   "outputs": [
    {
     "data": {
      "text/plain": [
       "(5, 3)"
      ]
     },
     "execution_count": 28,
     "metadata": {},
     "output_type": "execute_result"
    }
   ],
   "source": [
    "d1.shape"
   ]
  },
  {
   "cell_type": "code",
   "execution_count": 29,
   "id": "383f8b04",
   "metadata": {
    "ExecuteTime": {
     "end_time": "2023-12-02T14:57:52.509678Z",
     "start_time": "2023-12-02T14:57:52.504129Z"
    },
    "hidden": true
   },
   "outputs": [
    {
     "data": {
      "text/plain": [
       "(5, 3)"
      ]
     },
     "execution_count": 29,
     "metadata": {},
     "output_type": "execute_result"
    }
   ],
   "source": [
    "d2[~d2[['c2', 'c3']].duplicated()].shape"
   ]
  },
  {
   "cell_type": "code",
   "execution_count": null,
   "id": "488bea42",
   "metadata": {
    "hidden": true
   },
   "outputs": [],
   "source": [
    "d2.shape"
   ]
  },
  {
   "cell_type": "code",
   "execution_count": null,
   "id": "6ba5a176",
   "metadata": {
    "hidden": true
   },
   "outputs": [],
   "source": [
    "d4 = pd.DataFrame(columns=['c2', 'c3'])"
   ]
  },
  {
   "cell_type": "code",
   "execution_count": null,
   "id": "96b0866e",
   "metadata": {
    "hidden": true
   },
   "outputs": [],
   "source": [
    "d4.head()"
   ]
  },
  {
   "cell_type": "code",
   "execution_count": null,
   "id": "7885110f",
   "metadata": {
    "hidden": true
   },
   "outputs": [],
   "source": [
    "d1[['c2', 'c3']]"
   ]
  },
  {
   "cell_type": "code",
   "execution_count": null,
   "id": "8c4eb831",
   "metadata": {
    "hidden": true
   },
   "outputs": [],
   "source": [
    "d4 = pd.concat([d4, d1[['c2', 'c3']]])"
   ]
  },
  {
   "cell_type": "code",
   "execution_count": null,
   "id": "c8265129",
   "metadata": {
    "hidden": true
   },
   "outputs": [],
   "source": [
    "d4"
   ]
  },
  {
   "cell_type": "code",
   "execution_count": null,
   "id": "e866aad7",
   "metadata": {
    "hidden": true
   },
   "outputs": [],
   "source": [
    "d4 = pd.concat([d4, d2[['c2', 'c3']]])"
   ]
  },
  {
   "cell_type": "code",
   "execution_count": null,
   "id": "d05f1d28",
   "metadata": {
    "hidden": true
   },
   "outputs": [],
   "source": [
    "d4"
   ]
  },
  {
   "cell_type": "code",
   "execution_count": null,
   "id": "7ad521dc",
   "metadata": {
    "hidden": true
   },
   "outputs": [],
   "source": [
    "d4[~d4.duplicated()]"
   ]
  },
  {
   "cell_type": "code",
   "execution_count": null,
   "id": "78d952aa",
   "metadata": {
    "hidden": true
   },
   "outputs": [],
   "source": [
    "d3 = pd.DataFrame(columns=['c1', 'c2', 'c3', 'c4'])"
   ]
  },
  {
   "cell_type": "code",
   "execution_count": null,
   "id": "b19d91a6",
   "metadata": {
    "hidden": true
   },
   "outputs": [],
   "source": [
    "d3.head()"
   ]
  },
  {
   "cell_type": "code",
   "execution_count": null,
   "id": "7fcd6500",
   "metadata": {
    "hidden": true
   },
   "outputs": [],
   "source": [
    "d3 = pd.concat([d3, d1])"
   ]
  },
  {
   "cell_type": "code",
   "execution_count": null,
   "id": "35f7353a",
   "metadata": {
    "hidden": true
   },
   "outputs": [],
   "source": [
    "d3"
   ]
  },
  {
   "cell_type": "code",
   "execution_count": null,
   "id": "b8f786e6",
   "metadata": {
    "hidden": true
   },
   "outputs": [],
   "source": [
    "d3 = pd.concat([d3, d2])"
   ]
  },
  {
   "cell_type": "code",
   "execution_count": null,
   "id": "0291aad5",
   "metadata": {
    "hidden": true
   },
   "outputs": [],
   "source": [
    "d3"
   ]
  },
  {
   "cell_type": "code",
   "execution_count": null,
   "id": "22235373",
   "metadata": {
    "hidden": true
   },
   "outputs": [],
   "source": [
    "d3[~d3.duplicated()]"
   ]
  },
  {
   "cell_type": "markdown",
   "id": "ad206291",
   "metadata": {},
   "source": [
    "# Helper function to convert different date formats to a consistent format."
   ]
  },
  {
   "cell_type": "code",
   "execution_count": 1,
   "id": "b664951e",
   "metadata": {
    "ExecuteTime": {
     "end_time": "2023-12-03T18:14:05.485587Z",
     "start_time": "2023-12-03T18:14:05.481765Z"
    }
   },
   "outputs": [],
   "source": [
    "def date_convertor(d):\n",
    "    if d in [None, np.nan, 'NA/NA']:\n",
    "        return d\n",
    "    _ = re.sub(r'[^0-9/: -]+', '', str(d)).strip()\n",
    "    try:\n",
    "        _ = datetime.strptime(_, \"%m/%d/%y\")\n",
    "    except:\n",
    "        try:\n",
    "            _ = datetime.strptime(_, \"%m/%d/%Y\")\n",
    "        except:\n",
    "            try:\n",
    "                _ = datetime.strptime(_, '%Y-%m-%d %H:%M:%S')\n",
    "            except:\n",
    "                try:\n",
    "                    _ = datetime.strptime(_, '%m/%Y')\n",
    "                except:\n",
    "                    print(f\"couldn't convert {d}\")\n",
    "                    return np.nan\n",
    "    new = _.strftime(\"%m/%d/%Y\")\n",
    "    return new"
   ]
  },
  {
   "cell_type": "markdown",
   "id": "10763ba4-8ddb-465f-bcd9-db2c9799dea2",
   "metadata": {},
   "source": [
    "# Firstly, fix the inconsistencies in all columns in both files and then merge them. Fixing needs to be done based on achieved dictionaries from the initial merge."
   ]
  },
  {
   "cell_type": "code",
   "execution_count": 2,
   "id": "5c645d4b",
   "metadata": {
    "ExecuteTime": {
     "end_time": "2023-12-03T18:14:07.250004Z",
     "start_time": "2023-12-03T18:14:06.768345Z"
    }
   },
   "outputs": [],
   "source": [
    "import re\n",
    "import pandas as pd\n",
    "import numpy as np\n",
    "import matplotlib.pyplot as plt\n",
    "\n",
    "from collections import Counter\n",
    "from datetime import datetime"
   ]
  },
  {
   "cell_type": "code",
   "execution_count": 3,
   "id": "56e97cf3",
   "metadata": {
    "ExecuteTime": {
     "end_time": "2023-12-03T18:14:07.255307Z",
     "start_time": "2023-12-03T18:14:07.252457Z"
    }
   },
   "outputs": [],
   "source": [
    "pre = {}"
   ]
  },
  {
   "cell_type": "code",
   "execution_count": 4,
   "id": "9b787260",
   "metadata": {
    "ExecuteTime": {
     "end_time": "2023-12-03T18:14:08.275452Z",
     "start_time": "2023-12-03T18:14:08.272813Z"
    }
   },
   "outputs": [],
   "source": [
    "# set the max columns to none in order to show all columns of dataframe\n",
    "pd.set_option('display.max_columns', None)"
   ]
  },
  {
   "cell_type": "code",
   "execution_count": 5,
   "id": "ba5691b2",
   "metadata": {
    "ExecuteTime": {
     "end_time": "2023-12-03T18:14:08.804507Z",
     "start_time": "2023-12-03T18:14:08.801564Z"
    }
   },
   "outputs": [],
   "source": [
    "file_names = ['00a_All drugs sorted alphabatically by their developers_1980-2016_cleaned_2.xlsx',\n",
    "             '01c_Survival-terminated-Projects&Compounds_cleaned_2.xlsx',\n",
    "             '04_All Recap clinical trials 1980-2016_cleaned_2.xlsx',\n",
    "             'All drug projects Data_cleaned_2.xlsx',\n",
    "             'All drug-alliance data_cleaned_2.xlsx',\n",
    "             'All drugs sorted alphabatically by their developers_1980-2016_cleaned_2.xlsx',\n",
    "             'List of marketed drugs_sales data required_cleaned_2.xlsx',\n",
    "             'STG_TMNT_MKT_cleaned -Combined_cleaned_2.xlsx', \n",
    "             'US_Patents_June_2021_Updated_cleaned_2.xlsx']"
   ]
  },
  {
   "cell_type": "code",
   "execution_count": 6,
   "id": "b0680efc",
   "metadata": {
    "ExecuteTime": {
     "end_time": "2023-12-03T18:14:15.586012Z",
     "start_time": "2023-12-03T18:14:09.456706Z"
    }
   },
   "outputs": [],
   "source": [
    "df_All = pd.read_excel('All drug-alliance data_cleaned_2.xlsx')\n",
    "# df_required = pd.read_excel('List of marketed drugs_sales data required_cleaned_2.xlsx')\n",
    "df_Combined = pd.read_excel('STG_TMNT_MKT_cleaned -Combined_cleaned_2.xlsx')"
   ]
  },
  {
   "cell_type": "code",
   "execution_count": 7,
   "id": "f721c863",
   "metadata": {
    "ExecuteTime": {
     "end_time": "2023-12-03T18:14:15.649710Z",
     "start_time": "2023-12-03T18:14:15.588863Z"
    }
   },
   "outputs": [],
   "source": [
    "df_All = df_All[~df_All.duplicated()]\n",
    "df_Combined = df_Combined[~df_Combined.duplicated()]"
   ]
  },
  {
   "cell_type": "code",
   "execution_count": 8,
   "id": "1d8931ff",
   "metadata": {
    "ExecuteTime": {
     "end_time": "2023-12-03T18:14:15.657535Z",
     "start_time": "2023-12-03T18:14:15.652068Z"
    }
   },
   "outputs": [
    {
     "data": {
      "text/plain": [
       "((8927, 30), (8910, 29))"
      ]
     },
     "execution_count": 8,
     "metadata": {},
     "output_type": "execute_result"
    }
   ],
   "source": [
    "df_All.shape, df_Combined.shape"
   ]
  },
  {
   "cell_type": "code",
   "execution_count": 9,
   "id": "fcf6113b",
   "metadata": {
    "ExecuteTime": {
     "end_time": "2023-12-03T18:14:15.666733Z",
     "start_time": "2023-12-03T18:14:15.660487Z"
    }
   },
   "outputs": [
    {
     "data": {
      "text/plain": [
       "Index(['#', 'Alliance', 'P1', 'P2', 'P Type', 'Date', 'Type', 'stage',\n",
       "       'Developer', 'Firm code', 'Trade Name', 'Generic Name',\n",
       "       'Product Identifier(s)', 'Current Status', 'Total Development',\n",
       "       'Active Development Partner(s)', 'Former Developer(s)',\n",
       "       'Therapeutic Area', 'Technology', 'Mechanism of Action',\n",
       "       'Molecular Target', 'Target Action', 'Compound Origin', 'IND Date',\n",
       "       'Project Start Date', 'error', 'indicator', 'pdfname', 'File Name',\n",
       "       'Reason for Termination'],\n",
       "      dtype='object')"
      ]
     },
     "execution_count": 9,
     "metadata": {},
     "output_type": "execute_result"
    }
   ],
   "source": [
    "df_All.columns"
   ]
  },
  {
   "cell_type": "code",
   "execution_count": 10,
   "id": "186655aa",
   "metadata": {
    "ExecuteTime": {
     "end_time": "2023-12-03T18:14:15.675571Z",
     "start_time": "2023-12-03T18:14:15.668592Z"
    }
   },
   "outputs": [
    {
     "data": {
      "text/plain": [
       "Index(['# 1', '# 2', 'Alliance', 'P1', 'P2', 'P Type', 'Date', 'Type', 'stage',\n",
       "       'Developer', 'Firm code', 'Disease Indication', 'Trade Name',\n",
       "       'Generic Name', 'Product Identifier(s)', 'Current Status', 'IND Date',\n",
       "       'Project Start Date', 'Active Development Partner(s)',\n",
       "       'Former Developer(s)', 'Therapeutic Area', 'Technology',\n",
       "       'Mechanism of Action', 'Molecular Target', 'Target Action',\n",
       "       'Compound Origin', 'pdfname', 'Total Development',\n",
       "       'Reason for Termination'],\n",
       "      dtype='object')"
      ]
     },
     "execution_count": 10,
     "metadata": {},
     "output_type": "execute_result"
    }
   ],
   "source": [
    "df_Combined.columns"
   ]
  },
  {
   "cell_type": "code",
   "execution_count": 11,
   "id": "2b1afbe1",
   "metadata": {
    "ExecuteTime": {
     "end_time": "2023-12-03T18:14:15.691377Z",
     "start_time": "2023-12-03T18:14:15.677227Z"
    }
   },
   "outputs": [],
   "source": [
    "df_All = df_All.drop(['#'], axis=1)"
   ]
  },
  {
   "cell_type": "code",
   "execution_count": 12,
   "id": "7e3d06f1",
   "metadata": {
    "ExecuteTime": {
     "end_time": "2023-12-03T18:14:15.700050Z",
     "start_time": "2023-12-03T18:14:15.692781Z"
    }
   },
   "outputs": [],
   "source": [
    "df_Combined = df_Combined.drop(['# 1'], axis=1)"
   ]
  },
  {
   "cell_type": "code",
   "execution_count": 13,
   "id": "34e38608",
   "metadata": {
    "ExecuteTime": {
     "end_time": "2023-12-03T18:14:15.712414Z",
     "start_time": "2023-12-03T18:14:15.702907Z"
    }
   },
   "outputs": [],
   "source": [
    "df_Combined = df_Combined.drop(['pdfname'], axis=1)"
   ]
  },
  {
   "cell_type": "code",
   "execution_count": 14,
   "id": "87905cae",
   "metadata": {
    "ExecuteTime": {
     "end_time": "2023-12-03T18:14:15.722782Z",
     "start_time": "2023-12-03T18:14:15.714563Z"
    }
   },
   "outputs": [],
   "source": [
    "df_All = df_All.drop(['pdfname'], axis=1)"
   ]
  },
  {
   "cell_type": "code",
   "execution_count": 15,
   "id": "c2d4160f",
   "metadata": {
    "ExecuteTime": {
     "end_time": "2023-12-03T18:14:15.776060Z",
     "start_time": "2023-12-03T18:14:15.725688Z"
    }
   },
   "outputs": [],
   "source": [
    "df_All = df_All[~df_All.duplicated()]\n",
    "df_Combined = df_Combined[~df_Combined.duplicated()]"
   ]
  },
  {
   "cell_type": "code",
   "execution_count": 16,
   "id": "b7005604",
   "metadata": {
    "ExecuteTime": {
     "end_time": "2023-12-03T18:14:16.442638Z",
     "start_time": "2023-12-03T18:14:16.439063Z"
    }
   },
   "outputs": [
    {
     "data": {
      "text/plain": [
       "((8497, 28), (8910, 27))"
      ]
     },
     "execution_count": 16,
     "metadata": {},
     "output_type": "execute_result"
    }
   ],
   "source": [
    "df_All.shape, df_Combined.shape"
   ]
  },
  {
   "cell_type": "code",
   "execution_count": 17,
   "id": "226c7b10",
   "metadata": {
    "ExecuteTime": {
     "end_time": "2023-12-03T18:14:17.041485Z",
     "start_time": "2023-12-03T18:14:17.038438Z"
    }
   },
   "outputs": [],
   "source": [
    "common_cols = [c for c in list(df_All.columns) if c in list(df_Combined.columns)]"
   ]
  },
  {
   "cell_type": "code",
   "execution_count": 18,
   "id": "63a29298",
   "metadata": {
    "ExecuteTime": {
     "end_time": "2023-12-03T18:14:17.986687Z",
     "start_time": "2023-12-03T18:14:17.983514Z"
    }
   },
   "outputs": [
    {
     "data": {
      "text/plain": [
       "25"
      ]
     },
     "execution_count": 18,
     "metadata": {},
     "output_type": "execute_result"
    }
   ],
   "source": [
    "len(common_cols)"
   ]
  },
  {
   "cell_type": "code",
   "execution_count": 19,
   "id": "79ea1930",
   "metadata": {
    "ExecuteTime": {
     "end_time": "2023-12-03T18:14:18.549192Z",
     "start_time": "2023-12-03T18:14:18.546337Z"
    }
   },
   "outputs": [],
   "source": [
    "df_All_only_cols = [c for c in list(df_All.columns) if c not in list(df_Combined.columns)]"
   ]
  },
  {
   "cell_type": "code",
   "execution_count": 20,
   "id": "935b8874",
   "metadata": {
    "ExecuteTime": {
     "end_time": "2023-12-03T18:14:19.068393Z",
     "start_time": "2023-12-03T18:14:19.059591Z"
    }
   },
   "outputs": [
    {
     "data": {
      "text/html": [
       "<div>\n",
       "<style scoped>\n",
       "    .dataframe tbody tr th:only-of-type {\n",
       "        vertical-align: middle;\n",
       "    }\n",
       "\n",
       "    .dataframe tbody tr th {\n",
       "        vertical-align: top;\n",
       "    }\n",
       "\n",
       "    .dataframe thead th {\n",
       "        text-align: right;\n",
       "    }\n",
       "</style>\n",
       "<table border=\"1\" class=\"dataframe\">\n",
       "  <thead>\n",
       "    <tr style=\"text-align: right;\">\n",
       "      <th></th>\n",
       "      <th>error</th>\n",
       "      <th>indicator</th>\n",
       "      <th>File Name</th>\n",
       "    </tr>\n",
       "  </thead>\n",
       "  <tbody>\n",
       "    <tr>\n",
       "      <th>0</th>\n",
       "      <td>s</td>\n",
       "      <td>NaN</td>\n",
       "      <td>stages</td>\n",
       "    </tr>\n",
       "    <tr>\n",
       "      <th>1</th>\n",
       "      <td>*</td>\n",
       "      <td>NaN</td>\n",
       "      <td>stages</td>\n",
       "    </tr>\n",
       "    <tr>\n",
       "      <th>2</th>\n",
       "      <td>s</td>\n",
       "      <td>NaN</td>\n",
       "      <td>stages</td>\n",
       "    </tr>\n",
       "    <tr>\n",
       "      <th>3</th>\n",
       "      <td>*</td>\n",
       "      <td>NaN</td>\n",
       "      <td>stages</td>\n",
       "    </tr>\n",
       "    <tr>\n",
       "      <th>4</th>\n",
       "      <td>s</td>\n",
       "      <td>NaN</td>\n",
       "      <td>stages</td>\n",
       "    </tr>\n",
       "  </tbody>\n",
       "</table>\n",
       "</div>"
      ],
      "text/plain": [
       "  error indicator File Name\n",
       "0     s       NaN    stages\n",
       "1     *       NaN    stages\n",
       "2     s       NaN    stages\n",
       "3     *       NaN    stages\n",
       "4     s       NaN    stages"
      ]
     },
     "execution_count": 20,
     "metadata": {},
     "output_type": "execute_result"
    }
   ],
   "source": [
    "df_All[df_All_only_cols].head()"
   ]
  },
  {
   "cell_type": "code",
   "execution_count": 21,
   "id": "f4b97fde",
   "metadata": {
    "ExecuteTime": {
     "end_time": "2023-12-03T18:14:21.191307Z",
     "start_time": "2023-12-03T18:14:21.188698Z"
    }
   },
   "outputs": [],
   "source": [
    "df_Combined_only_cols = [c for c in list(df_Combined.columns) if c not in list(df_All.columns)]"
   ]
  },
  {
   "cell_type": "code",
   "execution_count": 22,
   "id": "f6dc05fe",
   "metadata": {
    "ExecuteTime": {
     "end_time": "2023-12-03T18:14:21.626376Z",
     "start_time": "2023-12-03T18:14:21.619528Z"
    }
   },
   "outputs": [
    {
     "data": {
      "text/html": [
       "<div>\n",
       "<style scoped>\n",
       "    .dataframe tbody tr th:only-of-type {\n",
       "        vertical-align: middle;\n",
       "    }\n",
       "\n",
       "    .dataframe tbody tr th {\n",
       "        vertical-align: top;\n",
       "    }\n",
       "\n",
       "    .dataframe thead th {\n",
       "        text-align: right;\n",
       "    }\n",
       "</style>\n",
       "<table border=\"1\" class=\"dataframe\">\n",
       "  <thead>\n",
       "    <tr style=\"text-align: right;\">\n",
       "      <th></th>\n",
       "      <th># 2</th>\n",
       "      <th>Disease Indication</th>\n",
       "    </tr>\n",
       "  </thead>\n",
       "  <tbody>\n",
       "    <tr>\n",
       "      <th>0</th>\n",
       "      <td>TMNT 3589</td>\n",
       "      <td>colorectal cancer</td>\n",
       "    </tr>\n",
       "    <tr>\n",
       "      <th>1</th>\n",
       "      <td>TMNT 3590</td>\n",
       "      <td>colorectal cancer</td>\n",
       "    </tr>\n",
       "    <tr>\n",
       "      <th>2</th>\n",
       "      <td>TMNT 3591</td>\n",
       "      <td>colorectal cancer</td>\n",
       "    </tr>\n",
       "    <tr>\n",
       "      <th>3</th>\n",
       "      <td>STG 167</td>\n",
       "      <td>cancer</td>\n",
       "    </tr>\n",
       "    <tr>\n",
       "      <th>4</th>\n",
       "      <td>STG 168</td>\n",
       "      <td>solid tumors</td>\n",
       "    </tr>\n",
       "  </tbody>\n",
       "</table>\n",
       "</div>"
      ],
      "text/plain": [
       "         # 2 Disease Indication\n",
       "0  TMNT 3589  colorectal cancer\n",
       "1  TMNT 3590  colorectal cancer\n",
       "2  TMNT 3591  colorectal cancer\n",
       "3    STG 167             cancer\n",
       "4    STG 168       solid tumors"
      ]
     },
     "execution_count": 22,
     "metadata": {},
     "output_type": "execute_result"
    }
   ],
   "source": [
    "df_Combined[df_Combined_only_cols].head()"
   ]
  },
  {
   "cell_type": "code",
   "execution_count": 23,
   "id": "0677ef91",
   "metadata": {
    "ExecuteTime": {
     "end_time": "2023-12-03T18:14:24.384315Z",
     "start_time": "2023-12-03T18:14:24.382069Z"
    }
   },
   "outputs": [],
   "source": [
    "temp_c_c= common_cols"
   ]
  },
  {
   "cell_type": "code",
   "execution_count": 24,
   "id": "ecc6978b",
   "metadata": {
    "ExecuteTime": {
     "end_time": "2023-12-03T18:14:25.215077Z",
     "start_time": "2023-12-03T18:14:25.189993Z"
    }
   },
   "outputs": [],
   "source": [
    "df_All_temp = df_All[~df_All[temp_c_c].duplicated()][temp_c_c]"
   ]
  },
  {
   "cell_type": "code",
   "execution_count": 25,
   "id": "8ec53ee5",
   "metadata": {
    "ExecuteTime": {
     "end_time": "2023-12-03T18:14:25.968261Z",
     "start_time": "2023-12-03T18:14:25.941082Z"
    }
   },
   "outputs": [],
   "source": [
    "df_Combined_temp = df_Combined[~df_Combined[temp_c_c].duplicated()][temp_c_c]"
   ]
  },
  {
   "cell_type": "code",
   "execution_count": 26,
   "id": "0bb88964",
   "metadata": {
    "ExecuteTime": {
     "end_time": "2023-12-03T18:14:32.113580Z",
     "start_time": "2023-12-03T18:14:32.110087Z"
    }
   },
   "outputs": [
    {
     "data": {
      "text/plain": [
       "((8496, 25), (8496, 25))"
      ]
     },
     "execution_count": 26,
     "metadata": {},
     "output_type": "execute_result"
    }
   ],
   "source": [
    "df_All_temp.shape, df_Combined_temp.shape"
   ]
  },
  {
   "cell_type": "code",
   "execution_count": 27,
   "id": "cb9b9c64",
   "metadata": {
    "ExecuteTime": {
     "end_time": "2023-12-03T18:14:41.492440Z",
     "start_time": "2023-12-03T18:14:41.445742Z"
    }
   },
   "outputs": [],
   "source": [
    "df_resutl_temp = df_All_temp.merge(df_Combined_temp, how='outer', on=temp_c_c)"
   ]
  },
  {
   "cell_type": "code",
   "execution_count": 28,
   "id": "b86c1232",
   "metadata": {
    "ExecuteTime": {
     "end_time": "2023-12-03T18:14:45.374317Z",
     "start_time": "2023-12-03T18:14:45.371198Z"
    }
   },
   "outputs": [
    {
     "data": {
      "text/plain": [
       "(9526, 25)"
      ]
     },
     "execution_count": 28,
     "metadata": {},
     "output_type": "execute_result"
    }
   ],
   "source": [
    "df_resutl_temp.shape"
   ]
  },
  {
   "cell_type": "code",
   "execution_count": 95,
   "id": "3ada8eab",
   "metadata": {
    "ExecuteTime": {
     "end_time": "2023-12-02T15:57:49.558882Z",
     "start_time": "2023-12-02T15:57:49.536760Z"
    }
   },
   "outputs": [
    {
     "data": {
      "text/plain": [
       "(11683, 26)"
      ]
     },
     "execution_count": 95,
     "metadata": {},
     "output_type": "execute_result"
    }
   ],
   "source": [
    "# df_resutl_temp[~df_resutl_temp.duplicated()].shape"
   ]
  },
  {
   "cell_type": "markdown",
   "id": "e004d6a4",
   "metadata": {},
   "source": [
    "# How to remove inconsistencies in two files before merging them:\n",
    "\n",
    "1. Create a dictionary for the inconsistencies in each **common** column. This dictionary should be built based on an initial merge, i.e., merging only the common columns.\n",
    "    - Identify repeated values in each column.\n",
    "    - Check the type of each field and exclude 'Date' and 'Signed numbers' fields.\n",
    "\n",
    "2. Create a dictionary for the inconsistencies in each **file-specific** column in both files.\n",
    "    - Identify repeated values in each column.\n",
    "    - Check the type of each field and exclude 'Date' and 'Signed numbers' fields.\n",
    "\n",
    "3. The dictionary should now include all fields except those that did not pass the checks above. Use this dictionary to fix inconsistencies in both files.\n",
    "\n",
    "4. Apply functions to clean 'Date' columns and 'Signed numbers' columns separately.\n",
    "\n",
    "5. Merge the two cleaned files.\n"
   ]
  },
  {
   "cell_type": "code",
   "execution_count": 29,
   "id": "309af72f",
   "metadata": {
    "ExecuteTime": {
     "end_time": "2023-12-03T18:14:57.519724Z",
     "start_time": "2023-12-03T18:14:57.516054Z"
    }
   },
   "outputs": [
    {
     "data": {
      "text/plain": [
       "Index(['Alliance', 'P1', 'P2', 'P Type', 'Date', 'Type', 'stage', 'Developer',\n",
       "       'Firm code', 'Trade Name', 'Generic Name', 'Product Identifier(s)',\n",
       "       'Current Status', 'Total Development', 'Active Development Partner(s)',\n",
       "       'Former Developer(s)', 'Therapeutic Area', 'Technology',\n",
       "       'Mechanism of Action', 'Molecular Target', 'Target Action',\n",
       "       'Compound Origin', 'IND Date', 'Project Start Date',\n",
       "       'Reason for Termination'],\n",
       "      dtype='object')"
      ]
     },
     "execution_count": 29,
     "metadata": {},
     "output_type": "execute_result"
    }
   ],
   "source": [
    "df_resutl_temp.columns"
   ]
  },
  {
   "cell_type": "code",
   "execution_count": 30,
   "id": "27e56156",
   "metadata": {
    "ExecuteTime": {
     "end_time": "2023-12-03T18:15:01.316484Z",
     "start_time": "2023-12-03T18:15:00.836305Z"
    }
   },
   "outputs": [
    {
     "name": "stdout",
     "output_type": "stream",
     "text": [
      "Date\n",
      "Current Status\n",
      "Total Development\n",
      "IND Date\n",
      "Project Start Date\n"
     ]
    }
   ],
   "source": [
    "pre = {}\n",
    "# Create a dictionary for the inconsistencies in each common column. Dictionaries needs to be \n",
    "# built based on the initial merge i.e. the merge of only common columns.\n",
    "\n",
    "# the below list includs the 'date', 'singed numbers', etc.\n",
    "unfixable_cols = ['Date', 'Current Status', 'Total Development', 'IND Date', 'Project Start Date']\n",
    "for col in list(df_resutl_temp.columns):\n",
    "    if col in unfixable_cols:\n",
    "        print(col)\n",
    "        continue\n",
    "    pre[col] = {}\n",
    "    pre[col]['values'] = list(df_resutl_temp.sort_values(['Product Identifier(s)'])[col])\n",
    "    pre[col]['uniques'] = [str(c) for c in list(set(pre[col]['values']))]\n",
    "    pre[col]['cleans'] = [re.sub(r'[^a-zA-Z0-9]+', '', c).lower() for c in pre[col]['uniques']]\n",
    "#     Counter([pre[col]['cleans'].count(re.sub(r'[^a-zA-Z0-9]+', '', c).lower()) for c in pre[col]['uniques']])\n",
    "    # 'L,O,S' and 'Lo,S' in the \"Type\" field are not the same.\n",
    "    pre[col]['repeated'] = sorted([c for c in pre[col]['uniques'] \\\n",
    "                                 if (pre[col]['cleans'].count(re.sub(r'[^a-zA-Z0-9]+', '', c).lower()) > 1\n",
    "                                    and re.sub(r'[^a-zA-Z0-9]+', '', c).lower() != 'los' )])\n",
    "    pre[col]['dic'] = {k:[] for k in set([re.sub(r'[^a-zA-Z0-9]+', '', c).lower() for c in pre[col]['repeated']])}\n",
    "    \n",
    "    for item in pre[col]['uniques']: \n",
    "        if re.sub(r'[^a-zA-Z0-9]+', '', item).lower() in pre[col]['dic'].keys(): \n",
    "            pre[col]['dic'][re.sub(r'[^a-zA-Z0-9]+', '', item).lower()].append(item)\n",
    "    \n",
    "    for i in pre[col]['dic'].keys(): \n",
    "        pre[col]['dic'][i] = pre[col]['dic'][i][0]\n",
    "    \n",
    "    # apply the line below for each column in both files.\n",
    "    df_resutl_temp[col] = df_resutl_temp[col].apply(\n",
    "        lambda x: pre[col]['dic'].get(re.sub(r'[^a-zA-Z0-9]+', '', str(x)).lower()) or x)"
   ]
  },
  {
   "cell_type": "code",
   "execution_count": 31,
   "id": "84197c04",
   "metadata": {
    "ExecuteTime": {
     "end_time": "2023-12-03T18:15:03.628907Z",
     "start_time": "2023-12-03T18:15:03.447671Z"
    }
   },
   "outputs": [
    {
     "name": "stdout",
     "output_type": "stream",
     "text": [
      "4 Date\n",
      "couldn't convert 1 Proje\n",
      "couldn't convert 34425\n",
      "couldn't convert 1 Proje\n",
      "22 IND Date\n",
      "23 Project Start Date\n"
     ]
    }
   ],
   "source": [
    "for col in ['Date', 'IND Date', 'Project Start Date']:\n",
    "    index = df_resutl_temp.columns.get_loc(col)\n",
    "    print(index, col)\n",
    "    df_resutl_temp.iloc[:, index] = df_resutl_temp.iloc[:, index].apply(date_convertor)"
   ]
  },
  {
   "cell_type": "code",
   "execution_count": 32,
   "id": "285a8b13",
   "metadata": {
    "ExecuteTime": {
     "end_time": "2023-12-03T18:15:08.129674Z",
     "start_time": "2023-12-03T18:15:08.125940Z"
    }
   },
   "outputs": [
    {
     "data": {
      "text/plain": [
       "(9526, 25)"
      ]
     },
     "execution_count": 32,
     "metadata": {},
     "output_type": "execute_result"
    }
   ],
   "source": [
    "df_resutl_temp.shape"
   ]
  },
  {
   "cell_type": "code",
   "execution_count": 33,
   "id": "c443c45b",
   "metadata": {
    "ExecuteTime": {
     "end_time": "2023-12-03T18:15:14.256388Z",
     "start_time": "2023-12-03T18:15:14.237270Z"
    }
   },
   "outputs": [
    {
     "data": {
      "text/plain": [
       "(8624, 25)"
      ]
     },
     "execution_count": 33,
     "metadata": {},
     "output_type": "execute_result"
    }
   ],
   "source": [
    "df_resutl_temp[~df_resutl_temp.duplicated()].shape"
   ]
  },
  {
   "cell_type": "code",
   "execution_count": 34,
   "id": "7bcf4f27",
   "metadata": {
    "ExecuteTime": {
     "end_time": "2023-12-03T18:15:17.671753Z",
     "start_time": "2023-12-03T18:15:16.710652Z"
    }
   },
   "outputs": [],
   "source": [
    "# Complete the previous dictionary for the inconsistencies in each file's specific columns.\n",
    "\n",
    "# the below list includs the 'date', 'singed numbers', etc.\n",
    "unfixable_cols = []\n",
    "for col in list(df_Combined[df_Combined_only_cols].columns):\n",
    "    if col in unfixable_cols:\n",
    "        print(col)\n",
    "        continue\n",
    "    pre[col] = {}\n",
    "    pre[col]['values'] = list(df_Combined.sort_values(['Product Identifier(s)'])[col])\n",
    "    pre[col]['uniques'] = [str(c) for c in list(set(pre[col]['values']))]\n",
    "    pre[col]['cleans'] = [re.sub(r'[^a-zA-Z0-9]+', '', c).lower() for c in pre[col]['uniques']]\n",
    "#     Counter([pre[col]['cleans'].count(re.sub(r'[^a-zA-Z0-9]+', '', c).lower()) for c in pre[col]['uniques']])\n",
    "    # 'L,O,S' and 'Lo,S' in the \"Type\" field are not the same.\n",
    "    pre[col]['repeated'] = sorted([c for c in pre[col]['uniques'] \\\n",
    "                                 if (pre[col]['cleans'].count(re.sub(r'[^a-zA-Z0-9]+', '', c).lower()) > 1\n",
    "                                    and re.sub(r'[^a-zA-Z0-9]+', '', c).lower() != 'los' )])\n",
    "    pre[col]['dic'] = {k:[] for k in set([re.sub(r'[^a-zA-Z0-9]+', '', c).lower() for c in pre[col]['repeated']])}\n",
    "    \n",
    "    for item in pre[col]['uniques']: \n",
    "        if re.sub(r'[^a-zA-Z0-9]+', '', item).lower() in pre[col]['dic'].keys(): \n",
    "            pre[col]['dic'][re.sub(r'[^a-zA-Z0-9]+', '', item).lower()].append(item)\n",
    "    \n",
    "    for i in pre[col]['dic'].keys(): \n",
    "        pre[col]['dic'][i] = pre[col]['dic'][i][0]\n",
    "    \n",
    "    # apply the line below for each column in both files.\n",
    "    df_Combined[col] = df_Combined[col].apply(\n",
    "        lambda x: pre[col]['dic'].get(re.sub(r'[^a-zA-Z0-9]+', '', str(x)).lower()) or x)"
   ]
  },
  {
   "cell_type": "code",
   "execution_count": 35,
   "id": "3466cc50",
   "metadata": {
    "ExecuteTime": {
     "end_time": "2023-12-03T18:15:23.257121Z",
     "start_time": "2023-12-03T18:15:23.253983Z"
    }
   },
   "outputs": [
    {
     "data": {
      "text/plain": [
       "22"
      ]
     },
     "execution_count": 35,
     "metadata": {},
     "output_type": "execute_result"
    }
   ],
   "source": [
    "len(pre.keys())"
   ]
  },
  {
   "cell_type": "code",
   "execution_count": 36,
   "id": "a7218223",
   "metadata": {
    "ExecuteTime": {
     "end_time": "2023-12-03T18:15:24.221988Z",
     "start_time": "2023-12-03T18:15:24.218398Z"
    }
   },
   "outputs": [
    {
     "data": {
      "text/plain": [
       "dict_keys(['Alliance', 'P1', 'P2', 'P Type', 'Type', 'stage', 'Developer', 'Firm code', 'Trade Name', 'Generic Name', 'Product Identifier(s)', 'Active Development Partner(s)', 'Former Developer(s)', 'Therapeutic Area', 'Technology', 'Mechanism of Action', 'Molecular Target', 'Target Action', 'Compound Origin', 'Reason for Termination', '# 2', 'Disease Indication'])"
      ]
     },
     "execution_count": 36,
     "metadata": {},
     "output_type": "execute_result"
    }
   ],
   "source": [
    "pre.keys()"
   ]
  },
  {
   "cell_type": "code",
   "execution_count": 37,
   "id": "ea30672f",
   "metadata": {
    "ExecuteTime": {
     "end_time": "2023-12-03T18:15:32.557315Z",
     "start_time": "2023-12-03T18:15:32.553889Z"
    }
   },
   "outputs": [
    {
     "data": {
      "text/plain": [
       "22"
      ]
     },
     "execution_count": 37,
     "metadata": {},
     "output_type": "execute_result"
    }
   ],
   "source": [
    "len(pre.keys())"
   ]
  },
  {
   "cell_type": "code",
   "execution_count": 38,
   "id": "6cdd985f",
   "metadata": {
    "ExecuteTime": {
     "end_time": "2023-12-03T18:15:33.777567Z",
     "start_time": "2023-12-03T18:15:33.774056Z"
    }
   },
   "outputs": [
    {
     "data": {
      "text/plain": [
       "dict_keys(['Alliance', 'P1', 'P2', 'P Type', 'Type', 'stage', 'Developer', 'Firm code', 'Trade Name', 'Generic Name', 'Product Identifier(s)', 'Active Development Partner(s)', 'Former Developer(s)', 'Therapeutic Area', 'Technology', 'Mechanism of Action', 'Molecular Target', 'Target Action', 'Compound Origin', 'Reason for Termination', '# 2', 'Disease Indication'])"
      ]
     },
     "execution_count": 38,
     "metadata": {},
     "output_type": "execute_result"
    }
   ],
   "source": [
    "pre.keys()"
   ]
  },
  {
   "cell_type": "code",
   "execution_count": null,
   "id": "af6a0c7e",
   "metadata": {},
   "outputs": [],
   "source": []
  },
  {
   "cell_type": "markdown",
   "id": "5d015757",
   "metadata": {
    "heading_collapsed": true
   },
   "source": [
    "# Check each field to see if should be added to the dictionary or not."
   ]
  },
  {
   "cell_type": "code",
   "execution_count": 438,
   "id": "d570dfca",
   "metadata": {
    "ExecuteTime": {
     "end_time": "2023-12-03T14:40:40.446848Z",
     "start_time": "2023-12-03T14:40:40.443996Z"
    },
    "hidden": true
   },
   "outputs": [],
   "source": [
    "# temp_c_c= common_cols\n",
    "# temp_c_c= df_All_only_cols\n",
    "temp_c_c= df_Combined_only_cols"
   ]
  },
  {
   "cell_type": "code",
   "execution_count": null,
   "id": "121f609b",
   "metadata": {
    "ExecuteTime": {
     "end_time": "2023-12-03T14:44:03.292023Z",
     "start_time": "2023-12-03T14:44:03.269073Z"
    },
    "hidden": true,
    "scrolled": true
   },
   "outputs": [],
   "source": [
    "# 'Date' is date, \n",
    "# 'Current Status' is ['Phase I/II', 'Phase III']\n",
    "# 'Total Development' is ['-0.4', '-2.9', '-3.7', '-4.9', '-6.9', '0.4', '2.9', '3.7', '4.9', '6.9']\n",
    "# 'IND Date' is date,\n",
    "# 'Project Start Date' is date,\n",
    "index = 2\n",
    "temp_c_c[index]"
   ]
  },
  {
   "cell_type": "code",
   "execution_count": 452,
   "id": "848757be",
   "metadata": {
    "ExecuteTime": {
     "end_time": "2023-12-03T14:42:52.809102Z",
     "start_time": "2023-12-03T14:42:52.798263Z"
    },
    "hidden": true
   },
   "outputs": [],
   "source": [
    "# values = list(df_resutl_temp.sort_values(['Product Identifier(s)'])[temp_c_c[index]])\n",
    "#values = list(df_All.sort_values(['Product Identifier(s)'])[temp_c_c[index]])\n",
    "values = list(df_Combined.sort_values(['Product Identifier(s)'])[temp_c_c[index]])"
   ]
  },
  {
   "cell_type": "code",
   "execution_count": 453,
   "id": "f7c2c581",
   "metadata": {
    "ExecuteTime": {
     "end_time": "2023-12-03T14:42:55.085599Z",
     "start_time": "2023-12-03T14:42:55.081712Z"
    },
    "hidden": true
   },
   "outputs": [
    {
     "data": {
      "text/plain": [
       "'bronchospasm'"
      ]
     },
     "execution_count": 453,
     "metadata": {},
     "output_type": "execute_result"
    }
   ],
   "source": [
    "values[0]"
   ]
  },
  {
   "cell_type": "code",
   "execution_count": 454,
   "id": "dd9721a2",
   "metadata": {
    "ExecuteTime": {
     "end_time": "2023-12-03T14:42:58.232492Z",
     "start_time": "2023-12-03T14:42:58.229053Z"
    },
    "hidden": true
   },
   "outputs": [
    {
     "data": {
      "text/plain": [
       "8910"
      ]
     },
     "execution_count": 454,
     "metadata": {},
     "output_type": "execute_result"
    }
   ],
   "source": [
    "len(values)"
   ]
  },
  {
   "cell_type": "code",
   "execution_count": 455,
   "id": "7c3ace75",
   "metadata": {
    "ExecuteTime": {
     "end_time": "2023-12-03T14:43:18.112418Z",
     "start_time": "2023-12-03T14:43:18.108785Z"
    },
    "hidden": true
   },
   "outputs": [],
   "source": [
    "uniques = [str(c) for c in list(set(values))]"
   ]
  },
  {
   "cell_type": "code",
   "execution_count": 456,
   "id": "0b6e3db0",
   "metadata": {
    "ExecuteTime": {
     "end_time": "2023-12-03T14:43:18.997183Z",
     "start_time": "2023-12-03T14:43:18.992988Z"
    },
    "hidden": true
   },
   "outputs": [
    {
     "data": {
      "text/plain": [
       "946"
      ]
     },
     "execution_count": 456,
     "metadata": {},
     "output_type": "execute_result"
    }
   ],
   "source": [
    "len(uniques)"
   ]
  },
  {
   "cell_type": "code",
   "execution_count": 457,
   "id": "b69a59c0",
   "metadata": {
    "ExecuteTime": {
     "end_time": "2023-12-03T14:43:22.569686Z",
     "start_time": "2023-12-03T14:43:22.565120Z"
    },
    "hidden": true
   },
   "outputs": [],
   "source": [
    "cleans = [re.sub(r'[^a-zA-Z0-9]+', '', c).lower() for c in uniques]"
   ]
  },
  {
   "cell_type": "code",
   "execution_count": 458,
   "id": "623ca72d",
   "metadata": {
    "ExecuteTime": {
     "end_time": "2023-12-03T14:43:23.549744Z",
     "start_time": "2023-12-03T14:43:23.545979Z"
    },
    "hidden": true
   },
   "outputs": [
    {
     "data": {
      "text/plain": [
       "911"
      ]
     },
     "execution_count": 458,
     "metadata": {},
     "output_type": "execute_result"
    }
   ],
   "source": [
    "len(list(set(cleans)))"
   ]
  },
  {
   "cell_type": "code",
   "execution_count": 459,
   "id": "ccc5630b",
   "metadata": {
    "ExecuteTime": {
     "end_time": "2023-12-03T14:43:24.695124Z",
     "start_time": "2023-12-03T14:43:24.680304Z"
    },
    "hidden": true
   },
   "outputs": [],
   "source": [
    "repeated = sorted([c for c in uniques if (cleans.count(re.sub(r'[^a-zA-Z0-9]+', '', c).lower()) > 1\n",
    "                                         and re.sub(r'[^a-zA-Z0-9]+', '', c).lower() != 'los' )])"
   ]
  },
  {
   "cell_type": "code",
   "execution_count": 460,
   "id": "d972630f",
   "metadata": {
    "ExecuteTime": {
     "end_time": "2023-12-03T14:43:25.258558Z",
     "start_time": "2023-12-03T14:43:25.253959Z"
    },
    "collapsed": true,
    "hidden": true,
    "jupyter": {
     "outputs_hidden": true
    }
   },
   "outputs": [
    {
     "data": {
      "text/plain": [
       "[\"Alzheimer's Disease\",\n",
       " \"Alzheimer's disease\",\n",
       " 'B-Cell Malignancies',\n",
       " 'B-cell malignancies',\n",
       " 'Clostridium difficile infection',\n",
       " 'Duchenne Muscular Dystrophy',\n",
       " 'Duchenne muscular dystrophy',\n",
       " \"Friedreich's Ataxia\",\n",
       " \"Friedreich's ataxia\",\n",
       " 'Graft-versus-Host Disease',\n",
       " 'Hepatitis B Infection',\n",
       " 'Hepatitis C virus infection',\n",
       " \"Huntington's Disease\",\n",
       " \"Huntington's disease\",\n",
       " 'Japanese encephalitis',\n",
       " \"Parkinson's Disease\",\n",
       " \"Parkinson's disease\",\n",
       " \"Waldenstrom's Macroglobulinemia\",\n",
       " \"Waldenstrom's macroglobulinemia\",\n",
       " 'West Nile virus',\n",
       " 'age related macular degeneration',\n",
       " 'age-related macular degeneration',\n",
       " \"alzheimer's disease\",\n",
       " 'beta thalassemia',\n",
       " 'beta-thalassemia',\n",
       " 'clostridium difficile infection',\n",
       " 'community acquired bacterial pneumonia',\n",
       " 'community acquired pneumonia',\n",
       " 'community-acquired bacterial pneumonia',\n",
       " 'community-acquired pneumonia',\n",
       " 'complicated intra abdominal infections',\n",
       " 'complicated intra-abdominal infections',\n",
       " 'cutaneous T cell lymphoma',\n",
       " 'cutaneous T-Cell lymphoma',\n",
       " 'cutaneous T-cell lymphoma',\n",
       " 'diffuse large B cell lymphoma',\n",
       " 'diffuse large B-cell lymphoma',\n",
       " 'diffuse large-B cell lymphoma',\n",
       " 'fragile X syndrome',\n",
       " 'fragile-X syndrome',\n",
       " 'graft versus host disease',\n",
       " 'graft-versus-host disease',\n",
       " 'hepatitis B infection',\n",
       " 'hepatitis C virus infection',\n",
       " 'japanese encephalitis',\n",
       " 'muscle wasting',\n",
       " 'muscle-wasting',\n",
       " \"non Hodgkin's lymphoma\",\n",
       " 'non hodgkin lymphoma',\n",
       " 'non-Hodgkin Lymphoma',\n",
       " 'non-Hodgkin lymphoma',\n",
       " \"non-Hodgkin's B cell lymphoma\",\n",
       " \"non-Hodgkin's B-cell lymphoma\",\n",
       " \"non-Hodgkin's lymphoma\",\n",
       " 'non-alcoholic steatohepatitis',\n",
       " 'nonalcoholic steatohepatitis',\n",
       " 'peripheral T -cell lymphoma',\n",
       " 'peripheral T-cell lymphoma',\n",
       " 'post traumatic stress disorder',\n",
       " 'post-operative ileus',\n",
       " 'post-traumatic stress disorder',\n",
       " 'postoperative ileus',\n",
       " 'small pox',\n",
       " 'smallpox',\n",
       " 'west nile virus']"
      ]
     },
     "execution_count": 460,
     "metadata": {},
     "output_type": "execute_result"
    }
   ],
   "source": [
    "repeated"
   ]
  },
  {
   "cell_type": "code",
   "execution_count": 450,
   "id": "702f235c",
   "metadata": {
    "ExecuteTime": {
     "end_time": "2023-12-03T14:42:15.154662Z",
     "start_time": "2023-12-03T14:42:15.130101Z"
    },
    "hidden": true,
    "scrolled": true
   },
   "outputs": [
    {
     "data": {
      "text/plain": [
       "['MKT 1',\n",
       " 'MKT 10',\n",
       " 'MKT 100',\n",
       " 'MKT 1000',\n",
       " 'MKT 1001',\n",
       " 'MKT 1002',\n",
       " 'MKT 1003',\n",
       " 'MKT 1004',\n",
       " 'MKT 1005',\n",
       " 'MKT 1006',\n",
       " 'MKT 1007',\n",
       " 'MKT 1008',\n",
       " 'MKT 1009',\n",
       " 'MKT 101',\n",
       " 'MKT 1010',\n",
       " 'MKT 1011',\n",
       " 'MKT 1012',\n",
       " 'MKT 1013',\n",
       " 'MKT 1014',\n",
       " 'MKT 1015',\n",
       " 'MKT 1016',\n",
       " 'MKT 1017',\n",
       " 'MKT 1018',\n",
       " 'MKT 1019',\n",
       " 'MKT 102',\n",
       " 'MKT 1020',\n",
       " 'MKT 1021',\n",
       " 'MKT 1022',\n",
       " 'MKT 1023',\n",
       " 'MKT 1024',\n",
       " 'MKT 1025',\n",
       " 'MKT 1026',\n",
       " 'MKT 1027',\n",
       " 'MKT 1028',\n",
       " 'MKT 1029',\n",
       " 'MKT 103',\n",
       " 'MKT 1030',\n",
       " 'MKT 1031',\n",
       " 'MKT 1032',\n",
       " 'MKT 1033',\n",
       " 'MKT 1034',\n",
       " 'MKT 1035',\n",
       " 'MKT 1036',\n",
       " 'MKT 1037',\n",
       " 'MKT 1038',\n",
       " 'MKT 1039',\n",
       " 'MKT 104',\n",
       " 'MKT 1040',\n",
       " 'MKT 1041',\n",
       " 'MKT 1042',\n",
       " 'MKT 1043',\n",
       " 'MKT 1044',\n",
       " 'MKT 1045',\n",
       " 'MKT 1046',\n",
       " 'MKT 1047',\n",
       " 'MKT 1048',\n",
       " 'MKT 1049',\n",
       " 'MKT 105',\n",
       " 'MKT 1050',\n",
       " 'MKT 1051',\n",
       " 'MKT 1052',\n",
       " 'MKT 1053',\n",
       " 'MKT 1054',\n",
       " 'MKT 1055',\n",
       " 'MKT 1056',\n",
       " 'MKT 1057',\n",
       " 'MKT 1058',\n",
       " 'MKT 1059',\n",
       " 'MKT 106',\n",
       " 'MKT 1060',\n",
       " 'MKT 1061',\n",
       " 'MKT 1062',\n",
       " 'MKT 1063',\n",
       " 'MKT 1064',\n",
       " 'MKT 1065',\n",
       " 'MKT 1066',\n",
       " 'MKT 1067',\n",
       " 'MKT 1068',\n",
       " 'MKT 1069',\n",
       " 'MKT 107',\n",
       " 'MKT 1070',\n",
       " 'MKT 1071',\n",
       " 'MKT 1072',\n",
       " 'MKT 1073',\n",
       " 'MKT 1074',\n",
       " 'MKT 1075',\n",
       " 'MKT 1076',\n",
       " 'MKT 1077',\n",
       " 'MKT 1078',\n",
       " 'MKT 1079',\n",
       " 'MKT 108',\n",
       " 'MKT 1080',\n",
       " 'MKT 1081',\n",
       " 'MKT 1082',\n",
       " 'MKT 1083',\n",
       " 'MKT 1084',\n",
       " 'MKT 1085',\n",
       " 'MKT 1086',\n",
       " 'MKT 1087',\n",
       " 'MKT 1088',\n",
       " 'MKT 1089',\n",
       " 'MKT 109',\n",
       " 'MKT 1090',\n",
       " 'MKT 1091',\n",
       " 'MKT 1092',\n",
       " 'MKT 1093',\n",
       " 'MKT 1094',\n",
       " 'MKT 1095',\n",
       " 'MKT 1096',\n",
       " 'MKT 1097',\n",
       " 'MKT 1098',\n",
       " 'MKT 1099',\n",
       " 'MKT 11',\n",
       " 'MKT 110',\n",
       " 'MKT 1100',\n",
       " 'MKT 1101',\n",
       " 'MKT 1102',\n",
       " 'MKT 1103',\n",
       " 'MKT 1104',\n",
       " 'MKT 1105',\n",
       " 'MKT 1106',\n",
       " 'MKT 1107',\n",
       " 'MKT 1108',\n",
       " 'MKT 1109',\n",
       " 'MKT 111',\n",
       " 'MKT 1110',\n",
       " 'MKT 1111',\n",
       " 'MKT 1112',\n",
       " 'MKT 1113',\n",
       " 'MKT 1114',\n",
       " 'MKT 1115',\n",
       " 'MKT 1116',\n",
       " 'MKT 1117',\n",
       " 'MKT 1118',\n",
       " 'MKT 1119',\n",
       " 'MKT 112',\n",
       " 'MKT 1120',\n",
       " 'MKT 1121',\n",
       " 'MKT 1122',\n",
       " 'MKT 1123',\n",
       " 'MKT 1124',\n",
       " 'MKT 1125',\n",
       " 'MKT 1126',\n",
       " 'MKT 1127',\n",
       " 'MKT 1128',\n",
       " 'MKT 1129',\n",
       " 'MKT 113',\n",
       " 'MKT 1130',\n",
       " 'MKT 1131',\n",
       " 'MKT 1132',\n",
       " 'MKT 1133',\n",
       " 'MKT 1134',\n",
       " 'MKT 1135',\n",
       " 'MKT 1136',\n",
       " 'MKT 1137',\n",
       " 'MKT 1138',\n",
       " 'MKT 1139',\n",
       " 'MKT 114',\n",
       " 'MKT 1140',\n",
       " 'MKT 1141',\n",
       " 'MKT 1142',\n",
       " 'MKT 1143',\n",
       " 'MKT 1144',\n",
       " 'MKT 1145',\n",
       " 'MKT 1146',\n",
       " 'MKT 1147',\n",
       " 'MKT 1148',\n",
       " 'MKT 1149',\n",
       " 'MKT 115',\n",
       " 'MKT 1150',\n",
       " 'MKT 1151',\n",
       " 'MKT 1152',\n",
       " 'MKT 1153',\n",
       " 'MKT 1154',\n",
       " 'MKT 1155',\n",
       " 'MKT 1156',\n",
       " 'MKT 1157',\n",
       " 'MKT 1158',\n",
       " 'MKT 1159',\n",
       " 'MKT 116',\n",
       " 'MKT 1160',\n",
       " 'MKT 1161',\n",
       " 'MKT 1162',\n",
       " 'MKT 1163',\n",
       " 'MKT 1164',\n",
       " 'MKT 1165',\n",
       " 'MKT 1166',\n",
       " 'MKT 1167',\n",
       " 'MKT 1168',\n",
       " 'MKT 1169',\n",
       " 'MKT 117',\n",
       " 'MKT 1170',\n",
       " 'MKT 1171',\n",
       " 'MKT 1172',\n",
       " 'MKT 1173',\n",
       " 'MKT 1174',\n",
       " 'MKT 1175',\n",
       " 'MKT 1176',\n",
       " 'MKT 1177',\n",
       " 'MKT 1178',\n",
       " 'MKT 1179',\n",
       " 'MKT 118',\n",
       " 'MKT 1180',\n",
       " 'MKT 1181',\n",
       " 'MKT 1182',\n",
       " 'MKT 1183',\n",
       " 'MKT 1184',\n",
       " 'MKT 1185',\n",
       " 'MKT 1186',\n",
       " 'MKT 1187',\n",
       " 'MKT 1188',\n",
       " 'MKT 1189',\n",
       " 'MKT 119',\n",
       " 'MKT 1190',\n",
       " 'MKT 1191',\n",
       " 'MKT 1192',\n",
       " 'MKT 1193',\n",
       " 'MKT 1194',\n",
       " 'MKT 1195',\n",
       " 'MKT 1196',\n",
       " 'MKT 1197',\n",
       " 'MKT 1198',\n",
       " 'MKT 1199',\n",
       " 'MKT 12',\n",
       " 'MKT 120',\n",
       " 'MKT 1200',\n",
       " 'MKT 1201',\n",
       " 'MKT 1202',\n",
       " 'MKT 1203',\n",
       " 'MKT 1204',\n",
       " 'MKT 1205',\n",
       " 'MKT 1206',\n",
       " 'MKT 1207',\n",
       " 'MKT 1208',\n",
       " 'MKT 1209',\n",
       " 'MKT 121',\n",
       " 'MKT 1210',\n",
       " 'MKT 1211',\n",
       " 'MKT 1212',\n",
       " 'MKT 1213',\n",
       " 'MKT 1214',\n",
       " 'MKT 1215',\n",
       " 'MKT 1216',\n",
       " 'MKT 1217',\n",
       " 'MKT 1218',\n",
       " 'MKT 1219',\n",
       " 'MKT 122',\n",
       " 'MKT 1220',\n",
       " 'MKT 1221',\n",
       " 'MKT 1222',\n",
       " 'MKT 1223',\n",
       " 'MKT 1224',\n",
       " 'MKT 1225',\n",
       " 'MKT 1226',\n",
       " 'MKT 1227',\n",
       " 'MKT 1228',\n",
       " 'MKT 1229',\n",
       " 'MKT 123',\n",
       " 'MKT 1230',\n",
       " 'MKT 1231',\n",
       " 'MKT 1232',\n",
       " 'MKT 1233',\n",
       " 'MKT 1234',\n",
       " 'MKT 1235',\n",
       " 'MKT 1236',\n",
       " 'MKT 1237',\n",
       " 'MKT 1238',\n",
       " 'MKT 1239',\n",
       " 'MKT 124',\n",
       " 'MKT 1240',\n",
       " 'MKT 1241',\n",
       " 'MKT 1242',\n",
       " 'MKT 1243',\n",
       " 'MKT 1244',\n",
       " 'MKT 1245',\n",
       " 'MKT 1246',\n",
       " 'MKT 1247',\n",
       " 'MKT 1248',\n",
       " 'MKT 1249',\n",
       " 'MKT 125',\n",
       " 'MKT 1250',\n",
       " 'MKT 1251',\n",
       " 'MKT 1252',\n",
       " 'MKT 1253',\n",
       " 'MKT 1254',\n",
       " 'MKT 1255',\n",
       " 'MKT 1256',\n",
       " 'MKT 1257',\n",
       " 'MKT 1258',\n",
       " 'MKT 1259',\n",
       " 'MKT 126',\n",
       " 'MKT 1260',\n",
       " 'MKT 1261',\n",
       " 'MKT 1262',\n",
       " 'MKT 1263',\n",
       " 'MKT 1264',\n",
       " 'MKT 1265',\n",
       " 'MKT 1266',\n",
       " 'MKT 1267',\n",
       " 'MKT 1268',\n",
       " 'MKT 1269',\n",
       " 'MKT 127',\n",
       " 'MKT 1270',\n",
       " 'MKT 1271',\n",
       " 'MKT 1272',\n",
       " 'MKT 1273',\n",
       " 'MKT 1274',\n",
       " 'MKT 1275',\n",
       " 'MKT 1276',\n",
       " 'MKT 1277',\n",
       " 'MKT 1278',\n",
       " 'MKT 1279',\n",
       " 'MKT 128',\n",
       " 'MKT 1280',\n",
       " 'MKT 1281',\n",
       " 'MKT 1282',\n",
       " 'MKT 1283',\n",
       " 'MKT 1284',\n",
       " 'MKT 1285',\n",
       " 'MKT 1286',\n",
       " 'MKT 1287',\n",
       " 'MKT 1288',\n",
       " 'MKT 1289',\n",
       " 'MKT 129',\n",
       " 'MKT 1290',\n",
       " 'MKT 1291',\n",
       " 'MKT 1292',\n",
       " 'MKT 1293',\n",
       " 'MKT 1294',\n",
       " 'MKT 1295',\n",
       " 'MKT 1296',\n",
       " 'MKT 1297',\n",
       " 'MKT 1298',\n",
       " 'MKT 1299',\n",
       " 'MKT 13',\n",
       " 'MKT 130',\n",
       " 'MKT 1300',\n",
       " 'MKT 1301',\n",
       " 'MKT 1302',\n",
       " 'MKT 1303',\n",
       " 'MKT 1304',\n",
       " 'MKT 1305',\n",
       " 'MKT 1306',\n",
       " 'MKT 1307',\n",
       " 'MKT 1308',\n",
       " 'MKT 1309',\n",
       " 'MKT 131',\n",
       " 'MKT 1310',\n",
       " 'MKT 1311',\n",
       " 'MKT 1312',\n",
       " 'MKT 1313',\n",
       " 'MKT 1314',\n",
       " 'MKT 1315',\n",
       " 'MKT 1316',\n",
       " 'MKT 1317',\n",
       " 'MKT 1318',\n",
       " 'MKT 1319',\n",
       " 'MKT 132',\n",
       " 'MKT 1320',\n",
       " 'MKT 1321',\n",
       " 'MKT 1322',\n",
       " 'MKT 1323',\n",
       " 'MKT 1324',\n",
       " 'MKT 1325',\n",
       " 'MKT 1326',\n",
       " 'MKT 1327',\n",
       " 'MKT 1328',\n",
       " 'MKT 1329',\n",
       " 'MKT 133',\n",
       " 'MKT 1330',\n",
       " 'MKT 1331',\n",
       " 'MKT 1332',\n",
       " 'MKT 1333',\n",
       " 'MKT 1334',\n",
       " 'MKT 1335',\n",
       " 'MKT 1336',\n",
       " 'MKT 1337',\n",
       " 'MKT 1338',\n",
       " 'MKT 1339',\n",
       " 'MKT 134',\n",
       " 'MKT 1340',\n",
       " 'MKT 1341',\n",
       " 'MKT 1342',\n",
       " 'MKT 1343',\n",
       " 'MKT 1344',\n",
       " 'MKT 1345',\n",
       " 'MKT 1346',\n",
       " 'MKT 1347',\n",
       " 'MKT 1348',\n",
       " 'MKT 1349',\n",
       " 'MKT 135',\n",
       " 'MKT 1350',\n",
       " 'MKT 1351',\n",
       " 'MKT 1352',\n",
       " 'MKT 1353',\n",
       " 'MKT 1354',\n",
       " 'MKT 1355',\n",
       " 'MKT 1356',\n",
       " 'MKT 1357',\n",
       " 'MKT 1358',\n",
       " 'MKT 1359',\n",
       " 'MKT 136',\n",
       " 'MKT 1360',\n",
       " 'MKT 1361',\n",
       " 'MKT 1362',\n",
       " 'MKT 1363',\n",
       " 'MKT 1364',\n",
       " 'MKT 1365',\n",
       " 'MKT 1366',\n",
       " 'MKT 1367',\n",
       " 'MKT 1368',\n",
       " 'MKT 1369',\n",
       " 'MKT 137',\n",
       " 'MKT 1370',\n",
       " 'MKT 1371',\n",
       " 'MKT 1372',\n",
       " 'MKT 1373',\n",
       " 'MKT 1374',\n",
       " 'MKT 1375',\n",
       " 'MKT 1376',\n",
       " 'MKT 1377',\n",
       " 'MKT 1378',\n",
       " 'MKT 1379',\n",
       " 'MKT 138',\n",
       " 'MKT 1380',\n",
       " 'MKT 1381',\n",
       " 'MKT 1382',\n",
       " 'MKT 1383',\n",
       " 'MKT 1384',\n",
       " 'MKT 1385',\n",
       " 'MKT 1386',\n",
       " 'MKT 1387',\n",
       " 'MKT 1388',\n",
       " 'MKT 1389',\n",
       " 'MKT 139',\n",
       " 'MKT 1390',\n",
       " 'MKT 1391',\n",
       " 'MKT 1392',\n",
       " 'MKT 1393',\n",
       " 'MKT 1394',\n",
       " 'MKT 1395',\n",
       " 'MKT 1396',\n",
       " 'MKT 1397',\n",
       " 'MKT 1398',\n",
       " 'MKT 1399',\n",
       " 'MKT 14',\n",
       " 'MKT 140',\n",
       " 'MKT 1400',\n",
       " 'MKT 1401',\n",
       " 'MKT 1402',\n",
       " 'MKT 1403',\n",
       " 'MKT 1404',\n",
       " 'MKT 1405',\n",
       " 'MKT 1406',\n",
       " 'MKT 1407',\n",
       " 'MKT 1408',\n",
       " 'MKT 1409',\n",
       " 'MKT 141',\n",
       " 'MKT 1410',\n",
       " 'MKT 1411',\n",
       " 'MKT 1412',\n",
       " 'MKT 1413',\n",
       " 'MKT 1414',\n",
       " 'MKT 1415',\n",
       " 'MKT 1416',\n",
       " 'MKT 1417',\n",
       " 'MKT 1418',\n",
       " 'MKT 1419',\n",
       " 'MKT 142',\n",
       " 'MKT 1420',\n",
       " 'MKT 1421',\n",
       " 'MKT 1422',\n",
       " 'MKT 1423',\n",
       " 'MKT 1424',\n",
       " 'MKT 1425',\n",
       " 'MKT 1426',\n",
       " 'MKT 1427',\n",
       " 'MKT 1428',\n",
       " 'MKT 1429',\n",
       " 'MKT 143',\n",
       " 'MKT 1430',\n",
       " 'MKT 1431',\n",
       " 'MKT 1432',\n",
       " 'MKT 1433',\n",
       " 'MKT 1434',\n",
       " 'MKT 1435',\n",
       " 'MKT 1436',\n",
       " 'MKT 1437',\n",
       " 'MKT 1438',\n",
       " 'MKT 1439',\n",
       " 'MKT 144',\n",
       " 'MKT 1440',\n",
       " 'MKT 1441',\n",
       " 'MKT 1442',\n",
       " 'MKT 1443',\n",
       " 'MKT 1444',\n",
       " 'MKT 1445',\n",
       " 'MKT 1446',\n",
       " 'MKT 1447',\n",
       " 'MKT 1448',\n",
       " 'MKT 1449',\n",
       " 'MKT 145',\n",
       " 'MKT 1450',\n",
       " 'MKT 1451',\n",
       " 'MKT 1452',\n",
       " 'MKT 1453',\n",
       " 'MKT 1454',\n",
       " 'MKT 1455',\n",
       " 'MKT 1456',\n",
       " 'MKT 1457',\n",
       " 'MKT 1458',\n",
       " 'MKT 1459',\n",
       " 'MKT 146',\n",
       " 'MKT 1460',\n",
       " 'MKT 1461',\n",
       " 'MKT 1462',\n",
       " 'MKT 1463',\n",
       " 'MKT 1464',\n",
       " 'MKT 1465',\n",
       " 'MKT 1466',\n",
       " 'MKT 1467',\n",
       " 'MKT 1468',\n",
       " 'MKT 1469',\n",
       " 'MKT 147',\n",
       " 'MKT 1470',\n",
       " 'MKT 1471',\n",
       " 'MKT 1472',\n",
       " 'MKT 1473',\n",
       " 'MKT 1474',\n",
       " 'MKT 1475',\n",
       " 'MKT 1476',\n",
       " 'MKT 1477',\n",
       " 'MKT 1478',\n",
       " 'MKT 1479',\n",
       " 'MKT 148',\n",
       " 'MKT 1480',\n",
       " 'MKT 1481',\n",
       " 'MKT 1482',\n",
       " 'MKT 1483',\n",
       " 'MKT 1484',\n",
       " 'MKT 1485',\n",
       " 'MKT 1486',\n",
       " 'MKT 1487',\n",
       " 'MKT 1488',\n",
       " 'MKT 1489',\n",
       " 'MKT 149',\n",
       " 'MKT 1490',\n",
       " 'MKT 1491',\n",
       " 'MKT 1492',\n",
       " 'MKT 1493',\n",
       " 'MKT 1494',\n",
       " 'MKT 1495',\n",
       " 'MKT 1496',\n",
       " 'MKT 1497',\n",
       " 'MKT 1498',\n",
       " 'MKT 1499',\n",
       " 'MKT 15',\n",
       " 'MKT 150',\n",
       " 'MKT 1500',\n",
       " 'MKT 1501',\n",
       " 'MKT 1502',\n",
       " 'MKT 1503',\n",
       " 'MKT 1504',\n",
       " 'MKT 1505',\n",
       " 'MKT 1506',\n",
       " 'MKT 1507',\n",
       " 'MKT 1508',\n",
       " 'MKT 1509',\n",
       " 'MKT 151',\n",
       " 'MKT 1510',\n",
       " 'MKT 1511',\n",
       " 'MKT 1512',\n",
       " 'MKT 1513',\n",
       " 'MKT 1514',\n",
       " 'MKT 1515',\n",
       " 'MKT 1516',\n",
       " 'MKT 1517',\n",
       " 'MKT 1518',\n",
       " 'MKT 1519',\n",
       " 'MKT 152',\n",
       " 'MKT 1520',\n",
       " 'MKT 1521',\n",
       " 'MKT 1522',\n",
       " 'MKT 1523',\n",
       " 'MKT 1524',\n",
       " 'MKT 1525',\n",
       " 'MKT 1526',\n",
       " 'MKT 1527',\n",
       " 'MKT 1528',\n",
       " 'MKT 1529',\n",
       " 'MKT 153',\n",
       " 'MKT 1530',\n",
       " 'MKT 1531',\n",
       " 'MKT 1532',\n",
       " 'MKT 1533',\n",
       " 'MKT 1534',\n",
       " 'MKT 1535',\n",
       " 'MKT 1536',\n",
       " 'MKT 1537',\n",
       " 'MKT 1538',\n",
       " 'MKT 1539',\n",
       " 'MKT 154',\n",
       " 'MKT 1540',\n",
       " 'MKT 1541',\n",
       " 'MKT 1542',\n",
       " 'MKT 1543',\n",
       " 'MKT 1544',\n",
       " 'MKT 1545',\n",
       " 'MKT 1546',\n",
       " 'MKT 1547',\n",
       " 'MKT 1548',\n",
       " 'MKT 1549',\n",
       " 'MKT 155',\n",
       " 'MKT 1550',\n",
       " 'MKT 1551',\n",
       " 'MKT 1552',\n",
       " 'MKT 1553',\n",
       " 'MKT 1554',\n",
       " 'MKT 1555',\n",
       " 'MKT 1556',\n",
       " 'MKT 1557',\n",
       " 'MKT 1558',\n",
       " 'MKT 1559',\n",
       " 'MKT 156',\n",
       " 'MKT 1560',\n",
       " 'MKT 1561',\n",
       " 'MKT 1562',\n",
       " 'MKT 1563',\n",
       " 'MKT 1564',\n",
       " 'MKT 1565',\n",
       " 'MKT 1566',\n",
       " 'MKT 1567',\n",
       " 'MKT 1568',\n",
       " 'MKT 1569',\n",
       " 'MKT 157',\n",
       " 'MKT 1570',\n",
       " 'MKT 1571',\n",
       " 'MKT 1572',\n",
       " 'MKT 1573',\n",
       " 'MKT 1574',\n",
       " 'MKT 1575',\n",
       " 'MKT 1576',\n",
       " 'MKT 1577',\n",
       " 'MKT 1578',\n",
       " 'MKT 1579',\n",
       " 'MKT 158',\n",
       " 'MKT 1580',\n",
       " 'MKT 1581',\n",
       " 'MKT 1582',\n",
       " 'MKT 1583',\n",
       " 'MKT 1584',\n",
       " 'MKT 1585',\n",
       " 'MKT 1586',\n",
       " 'MKT 1587',\n",
       " 'MKT 1588',\n",
       " 'MKT 1589',\n",
       " 'MKT 159',\n",
       " 'MKT 1590',\n",
       " 'MKT 1591',\n",
       " 'MKT 1592',\n",
       " 'MKT 1593',\n",
       " 'MKT 1594',\n",
       " 'MKT 1595',\n",
       " 'MKT 1596',\n",
       " 'MKT 1597',\n",
       " 'MKT 1598',\n",
       " 'MKT 1599',\n",
       " 'MKT 16',\n",
       " 'MKT 160',\n",
       " 'MKT 1600',\n",
       " 'MKT 1601',\n",
       " 'MKT 1602',\n",
       " 'MKT 1603',\n",
       " 'MKT 1604',\n",
       " 'MKT 1605',\n",
       " 'MKT 1606',\n",
       " 'MKT 1607',\n",
       " 'MKT 1608',\n",
       " 'MKT 1609',\n",
       " 'MKT 161',\n",
       " 'MKT 1610',\n",
       " 'MKT 1611',\n",
       " 'MKT 1612',\n",
       " 'MKT 1613',\n",
       " 'MKT 1614',\n",
       " 'MKT 1615',\n",
       " 'MKT 1616',\n",
       " 'MKT 1617',\n",
       " 'MKT 1618',\n",
       " 'MKT 1619',\n",
       " 'MKT 162',\n",
       " 'MKT 1620',\n",
       " 'MKT 1621',\n",
       " 'MKT 1622',\n",
       " 'MKT 1623',\n",
       " 'MKT 1624',\n",
       " 'MKT 1625',\n",
       " 'MKT 1626',\n",
       " 'MKT 1627',\n",
       " 'MKT 1628',\n",
       " 'MKT 1629',\n",
       " 'MKT 163',\n",
       " 'MKT 1630',\n",
       " 'MKT 1631',\n",
       " 'MKT 1632',\n",
       " 'MKT 1633',\n",
       " 'MKT 1634',\n",
       " 'MKT 1635',\n",
       " 'MKT 1636',\n",
       " 'MKT 1637',\n",
       " 'MKT 1638',\n",
       " 'MKT 1639',\n",
       " 'MKT 164',\n",
       " 'MKT 1640',\n",
       " 'MKT 1641',\n",
       " 'MKT 1642',\n",
       " 'MKT 1643',\n",
       " 'MKT 1644',\n",
       " 'MKT 1645',\n",
       " 'MKT 1646',\n",
       " 'MKT 1647',\n",
       " 'MKT 1648',\n",
       " 'MKT 1649',\n",
       " 'MKT 165',\n",
       " 'MKT 1650',\n",
       " 'MKT 1651',\n",
       " 'MKT 1652',\n",
       " 'MKT 1653',\n",
       " 'MKT 1654',\n",
       " 'MKT 1655',\n",
       " 'MKT 1656',\n",
       " 'MKT 1657',\n",
       " 'MKT 1658',\n",
       " 'MKT 1659',\n",
       " 'MKT 166',\n",
       " 'MKT 1660',\n",
       " 'MKT 1661',\n",
       " 'MKT 1662',\n",
       " 'MKT 1663',\n",
       " 'MKT 1664',\n",
       " 'MKT 1665',\n",
       " 'MKT 1666',\n",
       " 'MKT 1667',\n",
       " 'MKT 1668',\n",
       " 'MKT 1669',\n",
       " 'MKT 167',\n",
       " 'MKT 1670',\n",
       " 'MKT 1671',\n",
       " 'MKT 1672',\n",
       " 'MKT 1673',\n",
       " 'MKT 1674',\n",
       " 'MKT 1675',\n",
       " 'MKT 1676',\n",
       " 'MKT 1677',\n",
       " 'MKT 1678',\n",
       " 'MKT 1679',\n",
       " 'MKT 168',\n",
       " 'MKT 1680',\n",
       " 'MKT 1681',\n",
       " 'MKT 1682',\n",
       " 'MKT 1683',\n",
       " 'MKT 1684',\n",
       " 'MKT 1685',\n",
       " 'MKT 1686',\n",
       " 'MKT 1687',\n",
       " 'MKT 1688',\n",
       " 'MKT 1689',\n",
       " 'MKT 169',\n",
       " 'MKT 1690',\n",
       " 'MKT 1691',\n",
       " 'MKT 1692',\n",
       " 'MKT 1693',\n",
       " 'MKT 1694',\n",
       " 'MKT 1695',\n",
       " 'MKT 1696',\n",
       " 'MKT 1697',\n",
       " 'MKT 1698',\n",
       " 'MKT 1699',\n",
       " 'MKT 17',\n",
       " 'MKT 170',\n",
       " 'MKT 1700',\n",
       " 'MKT 1701',\n",
       " 'MKT 1702',\n",
       " 'MKT 1703',\n",
       " 'MKT 1704',\n",
       " 'MKT 1705',\n",
       " 'MKT 1706',\n",
       " 'MKT 1707',\n",
       " 'MKT 1708',\n",
       " 'MKT 1709',\n",
       " 'MKT 171',\n",
       " 'MKT 1710',\n",
       " 'MKT 1711',\n",
       " 'MKT 1712',\n",
       " 'MKT 1713',\n",
       " 'MKT 1714',\n",
       " 'MKT 1715',\n",
       " 'MKT 1716',\n",
       " 'MKT 1717',\n",
       " 'MKT 1718',\n",
       " 'MKT 1719',\n",
       " 'MKT 172',\n",
       " 'MKT 1720',\n",
       " 'MKT 1721',\n",
       " 'MKT 1722',\n",
       " 'MKT 1723',\n",
       " 'MKT 1724',\n",
       " 'MKT 1725',\n",
       " 'MKT 1726',\n",
       " 'MKT 1727',\n",
       " 'MKT 1728',\n",
       " 'MKT 1729',\n",
       " 'MKT 173',\n",
       " 'MKT 1730',\n",
       " 'MKT 1731',\n",
       " 'MKT 1732',\n",
       " 'MKT 1733',\n",
       " 'MKT 1734',\n",
       " 'MKT 1735',\n",
       " 'MKT 1736',\n",
       " 'MKT 1737',\n",
       " 'MKT 1738',\n",
       " 'MKT 1739',\n",
       " 'MKT 174',\n",
       " 'MKT 1740',\n",
       " 'MKT 1741',\n",
       " 'MKT 1742',\n",
       " 'MKT 1743',\n",
       " 'MKT 1744',\n",
       " 'MKT 1745',\n",
       " 'MKT 1746',\n",
       " 'MKT 1747',\n",
       " 'MKT 1748',\n",
       " 'MKT 1749',\n",
       " 'MKT 175',\n",
       " 'MKT 1750',\n",
       " 'MKT 1751',\n",
       " 'MKT 1752',\n",
       " 'MKT 1753',\n",
       " 'MKT 1754',\n",
       " 'MKT 1755',\n",
       " 'MKT 1756',\n",
       " 'MKT 1757',\n",
       " 'MKT 1758',\n",
       " 'MKT 1759',\n",
       " 'MKT 176',\n",
       " 'MKT 1760',\n",
       " 'MKT 1761',\n",
       " 'MKT 1762',\n",
       " 'MKT 1763',\n",
       " 'MKT 1764',\n",
       " 'MKT 1765',\n",
       " 'MKT 1766',\n",
       " 'MKT 1767',\n",
       " 'MKT 1768',\n",
       " 'MKT 1769',\n",
       " 'MKT 177',\n",
       " 'MKT 1770',\n",
       " 'MKT 1771',\n",
       " 'MKT 1772',\n",
       " 'MKT 1773',\n",
       " 'MKT 1774',\n",
       " 'MKT 1775',\n",
       " 'MKT 1776',\n",
       " 'MKT 1777',\n",
       " 'MKT 1778',\n",
       " 'MKT 1779',\n",
       " 'MKT 178',\n",
       " 'MKT 1780',\n",
       " 'MKT 1781',\n",
       " 'MKT 1782',\n",
       " 'MKT 1783',\n",
       " 'MKT 1784',\n",
       " 'MKT 1785',\n",
       " 'MKT 1786',\n",
       " 'MKT 1787',\n",
       " 'MKT 1788',\n",
       " 'MKT 1789',\n",
       " 'MKT 179',\n",
       " 'MKT 1790',\n",
       " 'MKT 1791',\n",
       " 'MKT 1792',\n",
       " 'MKT 1793',\n",
       " 'MKT 1794',\n",
       " 'MKT 1795',\n",
       " 'MKT 1796',\n",
       " 'MKT 1797',\n",
       " 'MKT 1798',\n",
       " 'MKT 1799',\n",
       " 'MKT 18',\n",
       " 'MKT 180',\n",
       " 'MKT 1800',\n",
       " 'MKT 1801',\n",
       " 'MKT 1802',\n",
       " 'MKT 1803',\n",
       " 'MKT 1804',\n",
       " 'MKT 1805',\n",
       " 'MKT 1806',\n",
       " 'MKT 1807',\n",
       " 'MKT 1808',\n",
       " 'MKT 1809',\n",
       " 'MKT 181',\n",
       " 'MKT 1810',\n",
       " 'MKT 182',\n",
       " 'MKT 183',\n",
       " 'MKT 184',\n",
       " 'MKT 185',\n",
       " 'MKT 186',\n",
       " 'MKT 187',\n",
       " 'MKT 188',\n",
       " 'MKT 189',\n",
       " 'MKT 19',\n",
       " 'MKT 190',\n",
       " 'MKT 191',\n",
       " 'MKT 192',\n",
       " 'MKT 193',\n",
       " 'MKT 194',\n",
       " 'MKT 195',\n",
       " 'MKT 196',\n",
       " 'MKT 197',\n",
       " 'MKT 198',\n",
       " 'MKT 199',\n",
       " 'MKT 2',\n",
       " 'MKT 20',\n",
       " 'MKT 200',\n",
       " 'MKT 201',\n",
       " 'MKT 202',\n",
       " 'MKT 203',\n",
       " 'MKT 204',\n",
       " 'MKT 205',\n",
       " 'MKT 206',\n",
       " 'MKT 207',\n",
       " 'MKT 208',\n",
       " 'MKT 209',\n",
       " 'MKT 21',\n",
       " 'MKT 210',\n",
       " 'MKT 211',\n",
       " 'MKT 212',\n",
       " 'MKT 213',\n",
       " 'MKT 214',\n",
       " 'MKT 215',\n",
       " 'MKT 216',\n",
       " 'MKT 217',\n",
       " 'MKT 218',\n",
       " 'MKT 219',\n",
       " 'MKT 22',\n",
       " 'MKT 220',\n",
       " 'MKT 221',\n",
       " 'MKT 222',\n",
       " 'MKT 223',\n",
       " 'MKT 224',\n",
       " 'MKT 225',\n",
       " 'MKT 226',\n",
       " 'MKT 227',\n",
       " 'MKT 228',\n",
       " 'MKT 229',\n",
       " 'MKT 23',\n",
       " 'MKT 230',\n",
       " 'MKT 231',\n",
       " 'MKT 232',\n",
       " 'MKT 233',\n",
       " 'MKT 234',\n",
       " 'MKT 235',\n",
       " 'MKT 236',\n",
       " 'MKT 237',\n",
       " 'MKT 238',\n",
       " 'MKT 239',\n",
       " 'MKT 24',\n",
       " 'MKT 240',\n",
       " 'MKT 241',\n",
       " 'MKT 242',\n",
       " 'MKT 243',\n",
       " 'MKT 244',\n",
       " 'MKT 245',\n",
       " 'MKT 246',\n",
       " 'MKT 247',\n",
       " 'MKT 248',\n",
       " 'MKT 249',\n",
       " 'MKT 25',\n",
       " 'MKT 250',\n",
       " 'MKT 251',\n",
       " 'MKT 252',\n",
       " 'MKT 253',\n",
       " 'MKT 254',\n",
       " 'MKT 255',\n",
       " 'MKT 256',\n",
       " 'MKT 257',\n",
       " 'MKT 258',\n",
       " 'MKT 259',\n",
       " 'MKT 26',\n",
       " 'MKT 260',\n",
       " 'MKT 261',\n",
       " 'MKT 262',\n",
       " 'MKT 263',\n",
       " 'MKT 264',\n",
       " 'MKT 265',\n",
       " 'MKT 266',\n",
       " 'MKT 267',\n",
       " 'MKT 268',\n",
       " 'MKT 269',\n",
       " ...]"
      ]
     },
     "execution_count": 450,
     "metadata": {},
     "output_type": "execute_result"
    }
   ],
   "source": [
    "sorted(uniques)"
   ]
  },
  {
   "cell_type": "code",
   "execution_count": 429,
   "id": "732ddf27",
   "metadata": {
    "ExecuteTime": {
     "end_time": "2023-12-03T14:26:08.433566Z",
     "start_time": "2023-12-03T14:26:08.429866Z"
    },
    "hidden": true
   },
   "outputs": [
    {
     "data": {
      "text/plain": [
       "['market', 'stages', 'termination']"
      ]
     },
     "execution_count": 429,
     "metadata": {},
     "output_type": "execute_result"
    }
   ],
   "source": [
    "sorted(cleans)"
   ]
  },
  {
   "cell_type": "code",
   "execution_count": 437,
   "id": "b3865e1f",
   "metadata": {
    "ExecuteTime": {
     "end_time": "2023-12-03T14:29:14.341087Z",
     "start_time": "2023-12-03T14:29:14.336729Z"
    },
    "hidden": true
   },
   "outputs": [
    {
     "data": {
      "text/plain": [
       "array(['stages', 'termination', 'market'], dtype=object)"
      ]
     },
     "execution_count": 437,
     "metadata": {},
     "output_type": "execute_result"
    }
   ],
   "source": [
    "df_All[df_All_only_cols[2]].unique()"
   ]
  },
  {
   "cell_type": "markdown",
   "id": "ff59e7bf",
   "metadata": {},
   "source": [
    "# Apply dictionary to the files"
   ]
  },
  {
   "cell_type": "code",
   "execution_count": 39,
   "id": "14e0fc76",
   "metadata": {
    "ExecuteTime": {
     "end_time": "2023-12-03T18:16:09.396280Z",
     "start_time": "2023-12-03T18:16:08.962562Z"
    }
   },
   "outputs": [
    {
     "name": "stdout",
     "output_type": "stream",
     "text": [
      "df_All:  0 Alliance\n",
      "df_Combined:  1 Alliance\n",
      "df_All:  1 P1\n",
      "df_Combined:  2 P1\n",
      "df_All:  2 P2\n",
      "df_Combined:  3 P2\n",
      "df_All:  3 P Type\n",
      "df_Combined:  4 P Type\n",
      "df_All:  5 Type\n",
      "df_Combined:  6 Type\n",
      "df_All:  6 stage\n",
      "df_Combined:  7 stage\n",
      "df_All:  7 Developer\n",
      "df_Combined:  8 Developer\n",
      "df_All:  8 Firm code\n",
      "df_Combined:  9 Firm code\n",
      "df_All:  9 Trade Name\n",
      "df_Combined:  11 Trade Name\n",
      "df_All:  10 Generic Name\n",
      "df_Combined:  12 Generic Name\n",
      "df_All:  11 Product Identifier(s)\n",
      "df_Combined:  13 Product Identifier(s)\n",
      "df_All:  14 Active Development Partner(s)\n",
      "df_Combined:  17 Active Development Partner(s)\n",
      "df_All:  15 Former Developer(s)\n",
      "df_Combined:  18 Former Developer(s)\n",
      "df_All:  16 Therapeutic Area\n",
      "df_Combined:  19 Therapeutic Area\n",
      "df_All:  17 Technology\n",
      "df_Combined:  20 Technology\n",
      "df_All:  18 Mechanism of Action\n",
      "df_Combined:  21 Mechanism of Action\n",
      "df_All:  19 Molecular Target\n",
      "df_Combined:  22 Molecular Target\n",
      "df_All:  20 Target Action\n",
      "df_Combined:  23 Target Action\n",
      "df_All:  21 Compound Origin\n",
      "df_Combined:  24 Compound Origin\n",
      "df_All:  27 Reason for Termination\n",
      "df_Combined:  26 Reason for Termination\n",
      "df_Combined:  0 # 2\n",
      "df_Combined:  10 Disease Indication\n"
     ]
    }
   ],
   "source": [
    "for col in list(pre.keys()):\n",
    "    if col in list(df_All.columns):\n",
    "        index = df_All.columns.get_loc(col)\n",
    "        print('df_All: ', index, col)\n",
    "        df_All.iloc[:, index] = df_All.iloc[:, index].apply(\n",
    "            lambda x: pre[col]['dic'].get(re.sub(r'[^a-zA-Z0-9]+', '', str(x)).lower()) or x)\n",
    "#         df_All[col] = df_All[col].apply(\n",
    "#             lambda x: pre[col]['dic'].get(re.sub(r'[^a-zA-Z0-9]+', '', str(x)).lower()) or x)\n",
    "    if col in list(df_Combined.columns):\n",
    "        index = df_Combined.columns.get_loc(col)\n",
    "        print('df_Combined: ', index, col)\n",
    "        df_Combined.iloc[:, index] = df_Combined.iloc[:, index].apply(\n",
    "            lambda x: pre[col]['dic'].get(re.sub(r'[^a-zA-Z0-9]+', '', str(x)).lower()) or x)\n",
    "#         df_Combined[col] = df_Combined[col].apply(\n",
    "#             lambda x: pre[col]['dic'].get(re.sub(r'[^a-zA-Z0-9]+', '', str(x)).lower()) or x)\n"
   ]
  },
  {
   "cell_type": "code",
   "execution_count": 40,
   "id": "3800f74e",
   "metadata": {
    "ExecuteTime": {
     "end_time": "2023-12-03T18:16:58.325352Z",
     "start_time": "2023-12-03T18:16:57.954051Z"
    }
   },
   "outputs": [
    {
     "name": "stdout",
     "output_type": "stream",
     "text": [
      "df_All:  4 Date\n",
      "couldn't convert 1 Proje\n",
      "couldn't convert 34425\n",
      "df_Combined:  5 Date\n",
      "couldn't convert 1 Proje\n",
      "df_All:  22 IND Date\n",
      "df_Combined:  15 IND Date\n",
      "df_All:  23 Project Start Date\n",
      "df_Combined:  16 Project Start Date\n"
     ]
    }
   ],
   "source": [
    "for col in ['Date', 'IND Date', 'Project Start Date']:\n",
    "    if col in list(df_All.columns):\n",
    "        index = df_All.columns.get_loc(col)\n",
    "        print('df_All: ', index, col)\n",
    "        df_All.iloc[:, index] = df_All.iloc[:, index].apply(date_convertor)\n",
    "\n",
    "    if col in list(df_Combined.columns):\n",
    "        index = df_Combined.columns.get_loc(col)\n",
    "        print('df_Combined: ', index, col)\n",
    "        df_Combined.iloc[:, index] = df_Combined.iloc[:, index].apply(date_convertor)\n"
   ]
  },
  {
   "cell_type": "code",
   "execution_count": 41,
   "id": "38f1b85a",
   "metadata": {
    "ExecuteTime": {
     "end_time": "2023-12-03T18:17:16.623441Z",
     "start_time": "2023-12-03T18:17:16.566929Z"
    }
   },
   "outputs": [],
   "source": [
    "df_resutl1 = df_All.merge(df_Combined, how='outer', on=common_cols)"
   ]
  },
  {
   "cell_type": "code",
   "execution_count": 42,
   "id": "869f9443",
   "metadata": {
    "ExecuteTime": {
     "end_time": "2023-12-03T18:17:18.179717Z",
     "start_time": "2023-12-03T18:17:18.176245Z"
    }
   },
   "outputs": [
    {
     "data": {
      "text/plain": [
       "(9057, 30)"
      ]
     },
     "execution_count": 42,
     "metadata": {},
     "output_type": "execute_result"
    }
   ],
   "source": [
    "df_resutl1.shape"
   ]
  },
  {
   "cell_type": "code",
   "execution_count": 43,
   "id": "dc905e7e",
   "metadata": {
    "ExecuteTime": {
     "end_time": "2023-12-03T18:17:23.547237Z",
     "start_time": "2023-12-03T18:17:23.508534Z"
    }
   },
   "outputs": [
    {
     "data": {
      "text/plain": [
       "(8624, 25)"
      ]
     },
     "execution_count": 43,
     "metadata": {},
     "output_type": "execute_result"
    }
   ],
   "source": [
    "df_resutl1[common_cols][~df_resutl1[common_cols].duplicated()].shape"
   ]
  },
  {
   "cell_type": "code",
   "execution_count": 44,
   "id": "c4086bca",
   "metadata": {
    "ExecuteTime": {
     "end_time": "2023-12-03T18:17:25.189406Z",
     "start_time": "2023-12-03T18:17:25.162471Z"
    }
   },
   "outputs": [],
   "source": [
    "df = df_resutl1[~df_resutl1.duplicated()]"
   ]
  },
  {
   "cell_type": "code",
   "execution_count": 45,
   "id": "26ae9f45",
   "metadata": {
    "ExecuteTime": {
     "end_time": "2023-12-03T18:17:33.559516Z",
     "start_time": "2023-12-03T18:17:33.555679Z"
    }
   },
   "outputs": [
    {
     "data": {
      "text/plain": [
       "(9046, 30)"
      ]
     },
     "execution_count": 45,
     "metadata": {},
     "output_type": "execute_result"
    }
   ],
   "source": [
    "df.shape"
   ]
  },
  {
   "cell_type": "code",
   "execution_count": 46,
   "id": "70e41762",
   "metadata": {
    "ExecuteTime": {
     "end_time": "2023-12-03T18:17:39.730700Z",
     "start_time": "2023-12-03T18:17:36.349261Z"
    }
   },
   "outputs": [],
   "source": [
    "df.to_excel(\"All drug-alliance data_cleaned_2_and_STG_TMNT_MKT_cleaned -Combined_cleaned_2.xlsx\", index=False)"
   ]
  },
  {
   "cell_type": "code",
   "execution_count": null,
   "id": "fb830c6e",
   "metadata": {},
   "outputs": [],
   "source": []
  },
  {
   "cell_type": "code",
   "execution_count": 15,
   "id": "70e5ed25",
   "metadata": {
    "ExecuteTime": {
     "end_time": "2023-11-06T00:04:59.291528Z",
     "start_time": "2023-11-06T00:04:59.288779Z"
    },
    "hidden": true
   },
   "outputs": [],
   "source": [
    "common_cols = [c for c in list(df_alliance.columns) if c in list(df_sorted.columns)]"
   ]
  },
  {
   "cell_type": "code",
   "execution_count": 16,
   "id": "80825e17",
   "metadata": {
    "ExecuteTime": {
     "end_time": "2023-11-06T00:04:59.547106Z",
     "start_time": "2023-11-06T00:04:59.544406Z"
    },
    "hidden": true
   },
   "outputs": [
    {
     "name": "stdout",
     "output_type": "stream",
     "text": [
      "['Developer', 'Trade Name', 'Generic Name', 'Product Identifier(s)', 'Current Status', 'Active Development Partner(s)', 'Former Developer(s)', 'Therapeutic Area', 'Technology', 'Mechanism of Action', 'Compound Origin', 'IND Date', 'Project Start Date', 'Reason For Termination']\n"
     ]
    }
   ],
   "source": [
    "print(common_cols)"
   ]
  },
  {
   "cell_type": "code",
   "execution_count": 17,
   "id": "c87ee8d1",
   "metadata": {
    "ExecuteTime": {
     "end_time": "2023-11-06T00:04:59.816049Z",
     "start_time": "2023-11-06T00:04:59.812100Z"
    },
    "hidden": true
   },
   "outputs": [],
   "source": [
    "df_alliance_only_cols = [c for c in list(df_alliance.columns) if c not in list(df_sorted.columns)]"
   ]
  },
  {
   "cell_type": "code",
   "execution_count": 18,
   "id": "73288f66",
   "metadata": {
    "ExecuteTime": {
     "end_time": "2023-11-06T00:05:01.711860Z",
     "start_time": "2023-11-06T00:05:01.709353Z"
    },
    "hidden": true
   },
   "outputs": [
    {
     "name": "stdout",
     "output_type": "stream",
     "text": [
      "['Alliance', 'P1', 'P2', 'P.Type', 'Date', 'Type', 'stage', 'Firm.code', 'Total.Development', 'Molecular.Target', 'Target.Action', 'error', 'indicator', 'pdfname', 'File.Name']\n"
     ]
    }
   ],
   "source": [
    "print(df_alliance_only_cols)"
   ]
  },
  {
   "cell_type": "code",
   "execution_count": 19,
   "id": "c0492c15",
   "metadata": {
    "ExecuteTime": {
     "end_time": "2023-11-06T00:05:02.010456Z",
     "start_time": "2023-11-06T00:05:02.007620Z"
    },
    "hidden": true
   },
   "outputs": [],
   "source": [
    "df_sorted_only_cols = [c for c in list(df_sorted.columns) if c not in list(df_alliance.columns)]"
   ]
  },
  {
   "cell_type": "code",
   "execution_count": 20,
   "id": "3e8eddb0",
   "metadata": {
    "ExecuteTime": {
     "end_time": "2023-11-06T00:05:02.377137Z",
     "start_time": "2023-11-06T00:05:02.374597Z"
    },
    "hidden": true
   },
   "outputs": [
    {
     "name": "stdout",
     "output_type": "stream",
     "text": [
      "['Disease Indication', 'Product Description', 'Stage at In-License', 'Date of In-License', 'Indication Ordinal', 'Stage at Termination', 'Termination Date']\n"
     ]
    }
   ],
   "source": [
    "print(df_sorted_only_cols)"
   ]
  },
  {
   "cell_type": "code",
   "execution_count": 21,
   "id": "fc1c7ede",
   "metadata": {
    "ExecuteTime": {
     "end_time": "2023-11-06T00:05:03.816177Z",
     "start_time": "2023-11-06T00:05:03.813602Z"
    },
    "hidden": true
   },
   "outputs": [],
   "source": [
    "temp_c_c= common_cols"
   ]
  },
  {
   "cell_type": "code",
   "execution_count": 22,
   "id": "7bde224b",
   "metadata": {
    "ExecuteTime": {
     "end_time": "2023-11-06T00:05:06.148089Z",
     "start_time": "2023-11-06T00:05:06.145669Z"
    },
    "hidden": true
   },
   "outputs": [],
   "source": [
    "#df.drop(['B', 'C'], axis=1)"
   ]
  },
  {
   "cell_type": "code",
   "execution_count": 23,
   "id": "dd9afd8d",
   "metadata": {
    "ExecuteTime": {
     "end_time": "2023-11-06T00:05:09.628710Z",
     "start_time": "2023-11-06T00:05:09.625359Z"
    },
    "hidden": true
   },
   "outputs": [
    {
     "data": {
      "text/plain": [
       "((8927, 29), (3677, 21))"
      ]
     },
     "execution_count": 23,
     "metadata": {},
     "output_type": "execute_result"
    }
   ],
   "source": [
    "df_alliance.shape, df_sorted.shape"
   ]
  },
  {
   "cell_type": "code",
   "execution_count": 24,
   "id": "005ff354",
   "metadata": {
    "ExecuteTime": {
     "end_time": "2023-11-06T00:05:25.872860Z",
     "start_time": "2023-11-06T00:05:25.848904Z"
    },
    "hidden": true
   },
   "outputs": [],
   "source": [
    "df_merged_init = df_alliance.merge(df_sorted, how='outer', on=temp_c_c)"
   ]
  },
  {
   "cell_type": "code",
   "execution_count": 25,
   "id": "302a2005",
   "metadata": {
    "ExecuteTime": {
     "end_time": "2023-11-06T00:05:33.708536Z",
     "start_time": "2023-11-06T00:05:33.705404Z"
    },
    "hidden": true
   },
   "outputs": [
    {
     "data": {
      "text/plain": [
       "(12604, 36)"
      ]
     },
     "execution_count": 25,
     "metadata": {},
     "output_type": "execute_result"
    }
   ],
   "source": [
    "df_merged_init.shape"
   ]
  },
  {
   "cell_type": "markdown",
   "id": "3ff91e05",
   "metadata": {
    "heading_collapsed": true,
    "hidden": true,
    "jp-MarkdownHeadingCollapsed": true
   },
   "source": [
    "### TEMP HEADER duplicate after merging even by considering only common fields"
   ]
  },
  {
   "cell_type": "code",
   "execution_count": 24,
   "id": "a07ecc87",
   "metadata": {
    "ExecuteTime": {
     "end_time": "2023-11-05T23:38:54.776668Z",
     "start_time": "2023-11-05T23:38:54.761254Z"
    },
    "hidden": true
   },
   "outputs": [],
   "source": [
    "df_alliance_temp = df_alliance[~df_alliance[temp_c_c].duplicated()][temp_c_c]"
   ]
  },
  {
   "cell_type": "code",
   "execution_count": 25,
   "id": "c54927d3",
   "metadata": {
    "ExecuteTime": {
     "end_time": "2023-11-05T23:38:55.033231Z",
     "start_time": "2023-11-05T23:38:55.023029Z"
    },
    "hidden": true
   },
   "outputs": [],
   "source": [
    "df_sorted_temp = df_sorted[~df_sorted[temp_c_c].duplicated()][temp_c_c]"
   ]
  },
  {
   "cell_type": "code",
   "execution_count": 26,
   "id": "31c5a749",
   "metadata": {
    "ExecuteTime": {
     "end_time": "2023-11-05T23:38:55.307726Z",
     "start_time": "2023-11-05T23:38:55.304354Z"
    },
    "hidden": true
   },
   "outputs": [
    {
     "data": {
      "text/plain": [
       "((3688, 14), (3631, 14))"
      ]
     },
     "execution_count": 26,
     "metadata": {},
     "output_type": "execute_result"
    }
   ],
   "source": [
    "df_alliance_temp.shape, df_sorted_temp.shape"
   ]
  },
  {
   "cell_type": "code",
   "execution_count": 27,
   "id": "1d4876a6",
   "metadata": {
    "ExecuteTime": {
     "end_time": "2023-11-05T23:38:56.914347Z",
     "start_time": "2023-11-05T23:38:56.889721Z"
    },
    "hidden": true
   },
   "outputs": [],
   "source": [
    "df_resutl_temp = df_alliance_temp.merge(df_sorted_temp, how='outer', on=temp_c_c)"
   ]
  },
  {
   "cell_type": "markdown",
   "id": "c8313892",
   "metadata": {
    "heading_collapsed": true,
    "hidden": true
   },
   "source": [
    "## Create a dictionary for the inconsistencies in each common column. Dictionaries needs to be built based on the initial merge."
   ]
  },
  {
   "cell_type": "code",
   "execution_count": 28,
   "id": "4a774786",
   "metadata": {
    "ExecuteTime": {
     "end_time": "2023-11-05T23:39:06.325689Z",
     "start_time": "2023-11-05T23:39:06.153930Z"
    },
    "hidden": true
   },
   "outputs": [
    {
     "name": "stdout",
     "output_type": "stream",
     "text": [
      "0 Developer\n",
      "1 Trade Name\n",
      "2 Generic Name\n",
      "3 Product Identifier(s)\n",
      "5 Active Development Partner(s)\n",
      "6 Former Developer(s)\n",
      "7 Therapeutic Area\n",
      "8 Technology\n",
      "9 Mechanism of Action\n",
      "10 Compound Origin\n",
      "13 Reason For Termination\n"
     ]
    }
   ],
   "source": [
    "for col in ['Developer', 'Trade Name', 'Generic Name', 'Product Identifier(s)', 'Active Development Partner(s)', \n",
    "            'Former Developer(s)', 'Therapeutic Area', 'Technology', 'Mechanism of Action', 'Compound Origin', \n",
    "            'Reason For Termination']:\n",
    "    index = df_resutl_temp.columns.get_loc(col)\n",
    "    print(index, col)\n",
    "    pre[index] = {}\n",
    "    pre[index]['values'] = list(df_resutl_temp.sort_values(['Product Identifier(s)'])[temp_c_c[index]])\n",
    "    pre[index]['uniques'] = [str(c) for c in list(set(pre[index]['values']))]\n",
    "    pre[index]['cleans'] = [re.sub(r'[^a-zA-Z0-9]+', '', c).lower() for c in pre[index]['uniques']]\n",
    "#     Counter([pre[index]['cleans'].count(re.sub(r'[^a-zA-Z0-9]+', '', c).lower()) for c in pre[index]['uniques']])\n",
    "    pre[index]['repeated'] = sorted([c for c in pre[index]['uniques'] \\\n",
    "                                 if pre[index]['cleans'].count(re.sub(r'[^a-zA-Z0-9]+', '', c).lower()) > 1])\n",
    "    pre[index]['dic'] = {k:[] for k in set([re.sub(r'[^a-zA-Z0-9]+', '', c).lower() for c in pre[index]['repeated']])}\n",
    "    \n",
    "    for item in pre[index]['uniques']: \n",
    "        if re.sub(r'[^a-zA-Z0-9]+', '', item).lower() in pre[index]['dic'].keys(): \n",
    "            pre[index]['dic'][re.sub(r'[^a-zA-Z0-9]+', '', item).lower()].append(item)\n",
    "    \n",
    "    for i in pre[index]['dic'].keys(): \n",
    "        pre[index]['dic'][i] = pre[index]['dic'][i][0]\n",
    "    \n",
    "    df_resutl_temp[temp_c_c[index]] = df_resutl_temp[temp_c_c[index]].apply(\n",
    "        lambda x: pre[index]['dic'].get(re.sub(r'[^a-zA-Z0-9]+', '', str(x)).lower()) or x)\n",
    "    "
   ]
  },
  {
   "cell_type": "markdown",
   "id": "0542b2cd",
   "metadata": {
    "hidden": true
   },
   "source": [
    "### Don't run this section. \n",
    "Fix the inconsistencies in 'Current Status' in these two files."
   ]
  },
  {
   "cell_type": "code",
   "execution_count": null,
   "id": "618ec200",
   "metadata": {
    "hidden": true
   },
   "outputs": [],
   "source": [
    "# {'phaseiii': ['Phase III', 'Phase I/II']}"
   ]
  },
  {
   "cell_type": "code",
   "execution_count": null,
   "id": "5f3a3b8f",
   "metadata": {
    "ExecuteTime": {
     "end_time": "2023-11-04T12:31:55.997584Z",
     "start_time": "2023-11-04T12:31:55.995483Z"
    },
    "hidden": true
   },
   "outputs": [],
   "source": [
    "# index = 4"
   ]
  },
  {
   "cell_type": "markdown",
   "id": "7ea02a39",
   "metadata": {
    "heading_collapsed": true,
    "hidden": true
   },
   "source": [
    "## Fixing needs to be done based on achieved dictionaries from the initial merge."
   ]
  },
  {
   "cell_type": "code",
   "execution_count": 40,
   "id": "580581e5",
   "metadata": {
    "ExecuteTime": {
     "end_time": "2023-11-05T13:16:19.485366Z",
     "start_time": "2023-11-05T13:16:19.479443Z"
    },
    "hidden": true
   },
   "outputs": [
    {
     "data": {
      "text/plain": [
       "dict_keys([0, 1, 2, 3, 5, 6, 7, 8, 9, 10, 13])"
      ]
     },
     "execution_count": 40,
     "metadata": {},
     "output_type": "execute_result"
    }
   ],
   "source": [
    "pre.keys()"
   ]
  },
  {
   "cell_type": "code",
   "execution_count": 31,
   "id": "946ad14b",
   "metadata": {
    "ExecuteTime": {
     "end_time": "2023-11-05T23:40:55.830370Z",
     "start_time": "2023-11-05T23:40:55.682581Z"
    },
    "hidden": true
   },
   "outputs": [
    {
     "name": "stdout",
     "output_type": "stream",
     "text": [
      "0 Developer\n",
      "1 Trade Name\n",
      "2 Generic Name\n",
      "3 Product Identifier(s)\n",
      "5 Active Development Partner(s)\n",
      "6 Former Developer(s)\n",
      "7 Therapeutic Area\n",
      "8 Technology\n",
      "9 Mechanism of Action\n",
      "10 Compound Origin\n",
      "13 Reason For Termination\n"
     ]
    }
   ],
   "source": [
    "for col in ['Developer', 'Trade Name', 'Generic Name', 'Product Identifier(s)', 'Active Development Partner(s)', \n",
    "            'Former Developer(s)', 'Therapeutic Area', 'Technology', 'Mechanism of Action', 'Compound Origin', \n",
    "            'Reason For Termination']:\n",
    "    index = df_resutl_temp.columns.get_loc(col)\n",
    "    print(index, col)\n",
    "    df_alliance[col] = df_alliance[col].apply(\n",
    "    lambda x: pre[index]['dic'].get(re.sub(r'[^a-zA-Z0-9]+', '', str(x)).lower()) or x)\n",
    "    \n",
    "    df_sorted[col] = df_sorted[col].apply(\n",
    "    lambda x: pre[index]['dic'].get(re.sub(r'[^a-zA-Z0-9]+', '', str(x)).lower()) or x)\n"
   ]
  },
  {
   "cell_type": "code",
   "execution_count": 41,
   "id": "258dc8a0",
   "metadata": {
    "ExecuteTime": {
     "end_time": "2023-11-05T13:17:44.407833Z",
     "start_time": "2023-11-05T13:17:44.268424Z"
    },
    "hidden": true
   },
   "outputs": [],
   "source": [
    "# for index in pre.keys():\n",
    "#     df_alliance_temp[temp_c_c[index]] = df_alliance_temp[temp_c_c[index]].apply(\n",
    "#     lambda x: pre[index]['dic'].get(re.sub(r'[^a-zA-Z0-9]+', '', str(x)).lower()) or x)\n",
    "    \n",
    "#     df_sorted_temp[temp_c_c[index]] = df_sorted_temp[temp_c_c[index]].apply(\n",
    "#     lambda x: pre[index]['dic'].get(re.sub(r'[^a-zA-Z0-9]+', '', str(x)).lower()) or x)\n"
   ]
  },
  {
   "cell_type": "code",
   "execution_count": 29,
   "id": "d7eed21e",
   "metadata": {
    "ExecuteTime": {
     "end_time": "2023-11-05T23:39:26.493970Z",
     "start_time": "2023-11-05T23:39:26.489551Z"
    },
    "hidden": true
   },
   "outputs": [
    {
     "data": {
      "text/plain": [
       "('12/25/1994', '08/01/1999')"
      ]
     },
     "execution_count": 29,
     "metadata": {},
     "output_type": "execute_result"
    }
   ],
   "source": [
    "date_convertor('12/25/1994'), date_convertor('8/1/99')"
   ]
  },
  {
   "cell_type": "code",
   "execution_count": 34,
   "id": "c48b8721",
   "metadata": {
    "ExecuteTime": {
     "end_time": "2023-11-05T23:47:26.669505Z",
     "start_time": "2023-11-05T23:47:26.589214Z"
    },
    "hidden": true
   },
   "outputs": [
    {
     "name": "stdout",
     "output_type": "stream",
     "text": [
      "22 IND Date\n",
      "15 IND Date\n",
      "23 Project Start Date\n",
      "16 Project Start Date\n"
     ]
    }
   ],
   "source": [
    "for col in ['IND Date', 'Project Start Date']:\n",
    "    index = df_alliance.columns.get_loc(col)\n",
    "    print(index, col)\n",
    "    df_alliance.iloc[:, index] = df_alliance.iloc[:, index].apply(date_convertor)\n",
    "    index = df_sorted.columns.get_loc(col)\n",
    "    print(index, col)\n",
    "    df_sorted.iloc[:, index] = df_sorted.iloc[:, index].apply(date_convertor)"
   ]
  },
  {
   "cell_type": "markdown",
   "id": "cf1b037a",
   "metadata": {
    "heading_collapsed": true,
    "hidden": true
   },
   "source": [
    "## Create a dictionary for the inconsistencies in each df_alliance's column."
   ]
  },
  {
   "cell_type": "code",
   "execution_count": 35,
   "id": "deef9502",
   "metadata": {
    "ExecuteTime": {
     "end_time": "2023-11-05T23:47:54.195261Z",
     "start_time": "2023-11-05T23:47:54.193176Z"
    },
    "hidden": true
   },
   "outputs": [],
   "source": [
    "pre_df_alliance = {}"
   ]
  },
  {
   "cell_type": "code",
   "execution_count": 36,
   "id": "a54a371e",
   "metadata": {
    "ExecuteTime": {
     "end_time": "2023-11-05T23:48:19.095678Z",
     "start_time": "2023-11-05T23:48:19.091780Z"
    },
    "hidden": true
   },
   "outputs": [],
   "source": [
    "df_alliance_only = df_alliance[df_alliance_only_cols]"
   ]
  },
  {
   "cell_type": "code",
   "execution_count": 37,
   "id": "09172cd0",
   "metadata": {
    "ExecuteTime": {
     "end_time": "2023-11-05T23:48:30.306997Z",
     "start_time": "2023-11-05T23:48:30.149028Z"
    },
    "hidden": true
   },
   "outputs": [
    {
     "name": "stdout",
     "output_type": "stream",
     "text": [
      "0 Alliance\n",
      "1 P1\n",
      "2 P2\n",
      "3 P.Type\n",
      "5 Type\n",
      "6 stage\n",
      "7 Firm.code\n",
      "9 Molecular.Target\n",
      "10 Target.Action\n",
      "11 error\n",
      "12 indicator\n",
      "14 File.Name\n"
     ]
    }
   ],
   "source": [
    "for col in ['Alliance', 'P1', 'P2', 'P.Type', 'Type', 'stage', 'Firm.code', 'Molecular.Target', 'Target.Action', \n",
    "            'error', 'indicator', 'File.Name']:\n",
    "    index = df_alliance_only.columns.get_loc(col)\n",
    "    print(index, col)\n",
    "    pre_df_alliance[index] = {}\n",
    "    pre_df_alliance[index]['values'] = list(df_alliance_only[df_alliance_only_cols[index]])\n",
    "    pre_df_alliance[index]['uniques'] = [str(c) for c in list(set(pre_df_alliance[index]['values']))]\n",
    "    pre_df_alliance[index]['cleans'] = [re.sub(r'[^a-zA-Z0-9]+', '', c).lower() for c in pre_df_alliance[index]['uniques']]\n",
    "#     Counter([pre_df_alliance[index]['cleans'].count(re.sub(r'[^a-zA-Z0-9]+', '', c).lower()) for c in pre_df_alliance[index]['uniques']])\n",
    "    pre_df_alliance[index]['repeated'] = sorted([c for c in pre_df_alliance[index]['uniques'] \\\n",
    "                                 if pre_df_alliance[index]['cleans'].count(re.sub(r'[^a-zA-Z0-9]+', '', c).lower()) > 1])\n",
    "    pre_df_alliance[index]['dic'] = {k:[] for k in set([re.sub(r'[^a-zA-Z0-9]+', '', c).lower() for c in pre_df_alliance[index]['repeated']])}\n",
    "    \n",
    "    for item in pre_df_alliance[index]['uniques']: \n",
    "        if re.sub(r'[^a-zA-Z0-9]+', '', item).lower() in pre_df_alliance[index]['dic'].keys(): \n",
    "            pre_df_alliance[index]['dic'][re.sub(r'[^a-zA-Z0-9]+', '', item).lower()].append(item)\n",
    "            \n",
    "    # 'los': ['L,O,S', 'Lo,S']\n",
    "    if index == 5:\n",
    "        pre_df_alliance[index]['dic'].pop('los')\n",
    "    \n",
    "    for i in pre_df_alliance[index]['dic'].keys(): \n",
    "        pre_df_alliance[index]['dic'][i] = pre_df_alliance[index]['dic'][i][0]\n",
    "    df_alliance_only.iloc[:, index] = df_alliance_only.iloc[:, index].apply(\n",
    "        lambda x: pre_df_alliance[index]['dic'].get(re.sub(r'[^a-zA-Z0-9]+', '', str(x)).lower()) or x)"
   ]
  },
  {
   "cell_type": "markdown",
   "id": "11c27117",
   "metadata": {
    "hidden": true,
    "jp-MarkdownHeadingCollapsed": true
   },
   "source": [
    "### Don't run this section. \n",
    "Fix the inconsistencies in 'Total.Development' in df_alliance."
   ]
  },
  {
   "cell_type": "code",
   "execution_count": null,
   "id": "7f1b3d6a",
   "metadata": {
    "hidden": true
   },
   "outputs": [],
   "source": [
    "# {'69': ['-6.9', '6.9'],  '37': ['3.7', '-3.7'],  'nan': ['nan',  'nan',  'nan', ...]}"
   ]
  },
  {
   "cell_type": "code",
   "execution_count": 255,
   "id": "013223e2",
   "metadata": {
    "ExecuteTime": {
     "end_time": "2023-11-04T23:33:41.122616Z",
     "start_time": "2023-11-04T23:33:41.120168Z"
    },
    "hidden": true
   },
   "outputs": [],
   "source": [
    "# index = 8"
   ]
  },
  {
   "cell_type": "markdown",
   "id": "8b5092a9",
   "metadata": {
    "hidden": true,
    "jp-MarkdownHeadingCollapsed": true
   },
   "source": [
    "### Don't run this section.\n",
    "Fix the inconsistencies in 'pdfname' in df_alliance."
   ]
  },
  {
   "cell_type": "code",
   "execution_count": 38,
   "id": "1054ef05",
   "metadata": {
    "ExecuteTime": {
     "end_time": "2023-11-05T23:51:41.010347Z",
     "start_time": "2023-11-05T23:51:41.008273Z"
    },
    "hidden": true
   },
   "outputs": [],
   "source": [
    "# index = 13"
   ]
  },
  {
   "cell_type": "markdown",
   "id": "9f0d33ca",
   "metadata": {
    "heading_collapsed": true,
    "hidden": true
   },
   "source": [
    "## Fixing for df_alliance specific columns."
   ]
  },
  {
   "cell_type": "code",
   "execution_count": 39,
   "id": "003301c1",
   "metadata": {
    "ExecuteTime": {
     "end_time": "2023-11-05T23:51:51.872657Z",
     "start_time": "2023-11-05T23:51:51.794857Z"
    },
    "hidden": true
   },
   "outputs": [
    {
     "name": "stdout",
     "output_type": "stream",
     "text": [
      "0 Alliance\n",
      "1 P1\n",
      "2 P2\n",
      "3 P.Type\n",
      "5 Type\n",
      "6 stage\n",
      "7 Firm.code\n",
      "9 Molecular.Target\n",
      "10 Target.Action\n",
      "11 error\n",
      "12 indicator\n",
      "14 File.Name\n"
     ]
    }
   ],
   "source": [
    "for col in ['Alliance', 'P1', 'P2', 'P.Type', 'Type', 'stage', 'Firm.code', 'Molecular.Target', 'Target.Action', \n",
    "            'error', 'indicator', 'File.Name']:\n",
    "    index = df_alliance_only.columns.get_loc(col)\n",
    "    print(index, col)\n",
    "    df_alliance[col] = df_alliance[col].apply(\n",
    "    lambda x: pre_df_alliance[index]['dic'].get(re.sub(r'[^a-zA-Z0-9]+', '', str(x)).lower()) or x)\n",
    "    "
   ]
  },
  {
   "cell_type": "code",
   "execution_count": 45,
   "id": "b19733b5",
   "metadata": {
    "ExecuteTime": {
     "end_time": "2023-11-05T23:57:09.883172Z",
     "start_time": "2023-11-05T23:57:09.867379Z"
    },
    "hidden": true
   },
   "outputs": [
    {
     "name": "stdout",
     "output_type": "stream",
     "text": [
      "4\n"
     ]
    }
   ],
   "source": [
    "for col in ['Date',]:\n",
    "    index = df_alliance.columns.get_loc(col)\n",
    "    print(index)\n",
    "    df_alliance.iloc[:, index] = df_alliance.iloc[:, index].apply(date_convertor)"
   ]
  },
  {
   "cell_type": "markdown",
   "id": "3b0222a2",
   "metadata": {
    "heading_collapsed": true,
    "hidden": true
   },
   "source": [
    "## Create a dictionary for the inconsistencies in each df_sorted's column."
   ]
  },
  {
   "cell_type": "code",
   "execution_count": 46,
   "id": "7bac7ade",
   "metadata": {
    "ExecuteTime": {
     "end_time": "2023-11-05T23:57:26.433339Z",
     "start_time": "2023-11-05T23:57:26.431168Z"
    },
    "hidden": true
   },
   "outputs": [],
   "source": [
    "pre_df_sorted = {}"
   ]
  },
  {
   "cell_type": "code",
   "execution_count": 47,
   "id": "83030aa1",
   "metadata": {
    "ExecuteTime": {
     "end_time": "2023-11-05T23:57:28.388965Z",
     "start_time": "2023-11-05T23:57:28.385648Z"
    },
    "hidden": true
   },
   "outputs": [],
   "source": [
    "df_sorted_only = df_sorted[df_sorted_only_cols]"
   ]
  },
  {
   "cell_type": "code",
   "execution_count": 48,
   "id": "96c57fd5",
   "metadata": {
    "ExecuteTime": {
     "end_time": "2023-11-05T23:57:45.994458Z",
     "start_time": "2023-11-05T23:57:45.921706Z"
    },
    "hidden": true
   },
   "outputs": [
    {
     "name": "stdout",
     "output_type": "stream",
     "text": [
      "0 Disease Indication\n",
      "1 Product Description\n",
      "2 Stage at In-License\n",
      "4 Indication Ordinal\n",
      "5 Stage at Termination\n"
     ]
    }
   ],
   "source": [
    "for col in ['Disease Indication', 'Product Description', 'Stage at In-License', 'Indication Ordinal', \n",
    "              'Stage at Termination']:\n",
    "    index = df_sorted_only.columns.get_loc(col)\n",
    "    print(index, df_sorted_only_cols[index])\n",
    "    pre_df_sorted[index] = {}\n",
    "    pre_df_sorted[index]['values'] = list(df_sorted_only[df_sorted_only_cols[index]])\n",
    "    pre_df_sorted[index]['uniques'] = [str(c) for c in list(set(pre_df_sorted[index]['values']))]\n",
    "    pre_df_sorted[index]['cleans'] = [re.sub(r'[^a-zA-Z0-9]+', '', c).lower() for c in pre_df_sorted[index]['uniques']]\n",
    "#     Counter([pre_df_sorted[index]['cleans'].count(re.sub(r'[^a-zA-Z0-9]+', '', c).lower()) for c in pre_df_sorted[index]['uniques']])\n",
    "    pre_df_sorted[index]['repeated'] = sorted([c for c in pre_df_sorted[index]['uniques'] \\\n",
    "                                 if pre_df_sorted[index]['cleans'].count(re.sub(r'[^a-zA-Z0-9]+', '', c).lower()) > 1])\n",
    "    pre_df_sorted[index]['dic'] = {k:[] for k in set([re.sub(r'[^a-zA-Z0-9]+', '', c).lower() for c in pre_df_sorted[index]['repeated']])}\n",
    "    \n",
    "    for item in pre_df_sorted[index]['uniques']: \n",
    "        if re.sub(r'[^a-zA-Z0-9]+', '', item).lower() in pre_df_sorted[index]['dic'].keys(): \n",
    "            pre_df_sorted[index]['dic'][re.sub(r'[^a-zA-Z0-9]+', '', item).lower()].append(item)\n",
    "    \n",
    "    for i in pre_df_sorted[index]['dic'].keys(): \n",
    "        pre_df_sorted[index]['dic'][i] = pre_df_sorted[index]['dic'][i][0]\n",
    "    df_sorted_only.iloc[:, index] = df_sorted_only.iloc[:, index].apply(\n",
    "        lambda x: pre_df_sorted[index]['dic'].get(re.sub(r'[^a-zA-Z0-9]+', '', str(x)).lower()) or x)"
   ]
  },
  {
   "cell_type": "markdown",
   "id": "af2feb5f",
   "metadata": {
    "heading_collapsed": true,
    "hidden": true
   },
   "source": [
    "## Fixing for df_sorted specific columns."
   ]
  },
  {
   "cell_type": "code",
   "execution_count": 49,
   "id": "65639a66",
   "metadata": {
    "ExecuteTime": {
     "end_time": "2023-11-06T00:00:10.400712Z",
     "start_time": "2023-11-06T00:00:10.378988Z"
    },
    "hidden": true
   },
   "outputs": [
    {
     "name": "stdout",
     "output_type": "stream",
     "text": [
      "0 Disease Indication\n",
      "1 Product Description\n",
      "2 Stage at In-License\n",
      "4 Indication Ordinal\n",
      "5 Stage at Termination\n"
     ]
    }
   ],
   "source": [
    "for col in ['Disease Indication', 'Product Description', 'Stage at In-License', 'Indication Ordinal', \n",
    "              'Stage at Termination']:\n",
    "    index = df_sorted_only.columns.get_loc(col)\n",
    "    print(index, col)\n",
    "    df_sorted[col] = df_sorted[col].apply(\n",
    "    lambda x: pre_df_sorted[index]['dic'].get(re.sub(r'[^a-zA-Z0-9]+', '', str(x)).lower()) or x)\n",
    "    "
   ]
  },
  {
   "cell_type": "code",
   "execution_count": 50,
   "id": "50e8588f",
   "metadata": {
    "ExecuteTime": {
     "end_time": "2023-11-06T00:00:50.274693Z",
     "start_time": "2023-11-06T00:00:50.252676Z"
    },
    "hidden": true
   },
   "outputs": [
    {
     "name": "stdout",
     "output_type": "stream",
     "text": [
      "14 Date of In-License\n",
      "19 Termination Date\n"
     ]
    }
   ],
   "source": [
    "for col in ['Date of In-License', 'Termination Date']:\n",
    "    index = df_sorted.columns.get_loc(col)\n",
    "    print(index, col)\n",
    "    df_sorted.iloc[:, index] = df_sorted.iloc[:, index].apply(date_convertor)"
   ]
  },
  {
   "cell_type": "markdown",
   "id": "1e5d5c97",
   "metadata": {
    "heading_collapsed": true,
    "hidden": true
   },
   "source": [
    "## Merge the cleaned files."
   ]
  },
  {
   "cell_type": "code",
   "execution_count": 52,
   "id": "5e149984",
   "metadata": {
    "ExecuteTime": {
     "end_time": "2023-11-06T00:03:11.478940Z",
     "start_time": "2023-11-06T00:03:11.475506Z"
    },
    "hidden": true
   },
   "outputs": [
    {
     "data": {
      "text/plain": [
       "(['Developer',\n",
       "  'Trade Name',\n",
       "  'Generic Name',\n",
       "  'Product Identifier(s)',\n",
       "  'Current Status',\n",
       "  'Active Development Partner(s)',\n",
       "  'Former Developer(s)',\n",
       "  'Therapeutic Area',\n",
       "  'Technology',\n",
       "  'Mechanism of Action',\n",
       "  'Compound Origin',\n",
       "  'IND Date',\n",
       "  'Project Start Date',\n",
       "  'Reason For Termination'],\n",
       " 14)"
      ]
     },
     "execution_count": 52,
     "metadata": {},
     "output_type": "execute_result"
    }
   ],
   "source": [
    "temp_c_c, len(temp_c_c)"
   ]
  },
  {
   "cell_type": "code",
   "execution_count": 53,
   "id": "f0ace647",
   "metadata": {
    "ExecuteTime": {
     "end_time": "2023-11-06T00:03:22.780724Z",
     "start_time": "2023-11-06T00:03:22.730107Z"
    },
    "hidden": true
   },
   "outputs": [],
   "source": [
    "df_merged = df_alliance.merge(df_sorted, how='outer', on=temp_c_c)"
   ]
  },
  {
   "cell_type": "code",
   "execution_count": 54,
   "id": "61be0815",
   "metadata": {
    "ExecuteTime": {
     "end_time": "2023-11-06T00:03:31.723249Z",
     "start_time": "2023-11-06T00:03:31.719917Z"
    },
    "hidden": true
   },
   "outputs": [
    {
     "data": {
      "text/plain": [
       "(11451, 36)"
      ]
     },
     "execution_count": 54,
     "metadata": {},
     "output_type": "execute_result"
    }
   ],
   "source": [
    "df_merged.shape"
   ]
  },
  {
   "cell_type": "code",
   "execution_count": null,
   "id": "0b926f05",
   "metadata": {
    "hidden": true
   },
   "outputs": [],
   "source": []
  },
  {
   "cell_type": "code",
   "execution_count": null,
   "id": "2bffb2cb",
   "metadata": {
    "hidden": true
   },
   "outputs": [],
   "source": []
  },
  {
   "cell_type": "code",
   "execution_count": null,
   "id": "a195fd7d",
   "metadata": {
    "hidden": true
   },
   "outputs": [],
   "source": [
    "df_resutl_temp.sort_values(['Product.Identifier'])[30:40]#[['Alliance', 'Product.Identifier']]"
   ]
  },
  {
   "cell_type": "code",
   "execution_count": null,
   "id": "176f6a7b",
   "metadata": {
    "hidden": true
   },
   "outputs": [],
   "source": [
    "df_resutl_temp.sort_values(['Product.Identifier'])[20:30][['Alliance', 'Product.Identifier']]\n"
   ]
  },
  {
   "cell_type": "code",
   "execution_count": null,
   "id": "36aa5602",
   "metadata": {
    "hidden": true
   },
   "outputs": [],
   "source": []
  },
  {
   "cell_type": "code",
   "execution_count": null,
   "id": "3da75d08",
   "metadata": {
    "hidden": true
   },
   "outputs": [],
   "source": [
    "len(list(df_All_temp[\"Alliance\"])), len(set(list(df_All_temp[\"Alliance\"]))) "
   ]
  },
  {
   "cell_type": "code",
   "execution_count": null,
   "id": "08156f62",
   "metadata": {
    "hidden": true
   },
   "outputs": [],
   "source": [
    "len(list(df_Combined_temp[\"Alliance\"])), len(set(list(df_Combined_temp[\"Alliance\"]))) "
   ]
  },
  {
   "cell_type": "code",
   "execution_count": null,
   "id": "57fd30f1",
   "metadata": {
    "hidden": true
   },
   "outputs": [],
   "source": [
    "df_resutl_temp.shape"
   ]
  },
  {
   "cell_type": "code",
   "execution_count": null,
   "id": "c43a86b4",
   "metadata": {
    "hidden": true
   },
   "outputs": [],
   "source": [
    "df_resutl_temp[~df_resutl_temp[common_cols].duplicated()].shape"
   ]
  },
  {
   "cell_type": "code",
   "execution_count": null,
   "id": "77a3db40",
   "metadata": {
    "hidden": true
   },
   "outputs": [],
   "source": [
    "common_cols.remove(\"pdfname\")"
   ]
  },
  {
   "cell_type": "code",
   "execution_count": null,
   "id": "ad0ebf88",
   "metadata": {
    "hidden": true
   },
   "outputs": [],
   "source": [
    "common_cols.remove(\"Alliance\")"
   ]
  },
  {
   "cell_type": "code",
   "execution_count": null,
   "id": "3355ee4c",
   "metadata": {
    "hidden": true
   },
   "outputs": [],
   "source": [
    "df_resutl_temp = df_Combined_temp.merge(df_All_temp, how='inner', on=common_cols)"
   ]
  },
  {
   "cell_type": "code",
   "execution_count": null,
   "id": "49a4af99",
   "metadata": {
    "hidden": true
   },
   "outputs": [],
   "source": [
    "df_resutl_temp.shape"
   ]
  },
  {
   "cell_type": "code",
   "execution_count": null,
   "id": "e425b5cb",
   "metadata": {
    "hidden": true
   },
   "outputs": [],
   "source": [
    "df_resutl_temp[~df_resutl_temp.duplicated()].shape"
   ]
  },
  {
   "cell_type": "code",
   "execution_count": null,
   "id": "9496d4f1",
   "metadata": {
    "hidden": true
   },
   "outputs": [],
   "source": [
    "common_cols.remove('#')"
   ]
  },
  {
   "cell_type": "code",
   "execution_count": null,
   "id": "8a5cda2f",
   "metadata": {
    "hidden": true
   },
   "outputs": [],
   "source": [
    "common_cols"
   ]
  },
  {
   "cell_type": "code",
   "execution_count": null,
   "id": "818ff0e8",
   "metadata": {
    "hidden": true
   },
   "outputs": [],
   "source": [
    "df_All_temp2 = df_All[~df_All[common_cols].duplicated()][common_cols]"
   ]
  },
  {
   "cell_type": "code",
   "execution_count": null,
   "id": "00aae4c5",
   "metadata": {
    "hidden": true
   },
   "outputs": [],
   "source": [
    "df_All_temp2.shape"
   ]
  },
  {
   "cell_type": "code",
   "execution_count": null,
   "id": "a79ba69d",
   "metadata": {
    "hidden": true
   },
   "outputs": [],
   "source": [
    "df_All.shape, df_Combined.shape"
   ]
  },
  {
   "cell_type": "code",
   "execution_count": null,
   "id": "e396f3eb",
   "metadata": {
    "hidden": true
   },
   "outputs": [],
   "source": [
    "df_both = df_Combined.merge(df_All, how='outer', on=common_cols)"
   ]
  },
  {
   "cell_type": "code",
   "execution_count": null,
   "id": "fa63ce12",
   "metadata": {
    "hidden": true
   },
   "outputs": [],
   "source": [
    "df_both.shape"
   ]
  },
  {
   "cell_type": "code",
   "execution_count": null,
   "id": "bf7a5df1",
   "metadata": {
    "hidden": true
   },
   "outputs": [],
   "source": [
    "df_both[~df_both.duplicated()].shape"
   ]
  },
  {
   "cell_type": "code",
   "execution_count": null,
   "id": "ce29e735",
   "metadata": {
    "hidden": true
   },
   "outputs": [],
   "source": [
    "df_Combined.rename(columns = {'Reason.for.Termination':'Termination.reason'}, inplace = True)"
   ]
  },
  {
   "cell_type": "code",
   "execution_count": null,
   "id": "840349f2",
   "metadata": {
    "hidden": true
   },
   "outputs": [],
   "source": [
    "df_Combined.rename(columns = {'# 1':'#'}, inplace = True)"
   ]
  },
  {
   "cell_type": "code",
   "execution_count": null,
   "id": "d0d57f31",
   "metadata": {
    "hidden": true
   },
   "outputs": [],
   "source": [
    "df_Combined.drop(['B', 'C'], axis=1)\n"
   ]
  },
  {
   "cell_type": "code",
   "execution_count": null,
   "id": "6837781b",
   "metadata": {
    "hidden": true
   },
   "outputs": [],
   "source": [
    "common_cols = [c for c in list(df_Combined.columns) if c in list(df_All.columns)]"
   ]
  },
  {
   "cell_type": "code",
   "execution_count": null,
   "id": "20e202d6",
   "metadata": {
    "hidden": true
   },
   "outputs": [],
   "source": [
    "len(common_cols)"
   ]
  },
  {
   "cell_type": "code",
   "execution_count": null,
   "id": "51669ebc",
   "metadata": {
    "hidden": true
   },
   "outputs": [],
   "source": [
    "df_both = df_Combined.merge(df_All, how='outer', on=common_cols)"
   ]
  },
  {
   "cell_type": "code",
   "execution_count": null,
   "id": "5e355b97",
   "metadata": {
    "hidden": true
   },
   "outputs": [],
   "source": [
    "df_both.shape"
   ]
  },
  {
   "cell_type": "code",
   "execution_count": null,
   "id": "c1113692",
   "metadata": {
    "hidden": true
   },
   "outputs": [],
   "source": [
    "df_both[~df_both.duplicated()].shape"
   ]
  },
  {
   "cell_type": "code",
   "execution_count": null,
   "id": "cd2a62c7",
   "metadata": {
    "hidden": true
   },
   "outputs": [],
   "source": [
    "df_Combined[0:1]"
   ]
  },
  {
   "cell_type": "code",
   "execution_count": null,
   "id": "e694fb6f",
   "metadata": {
    "hidden": true
   },
   "outputs": [],
   "source": [
    "df_All[0:1]"
   ]
  },
  {
   "cell_type": "code",
   "execution_count": null,
   "id": "eee41ecf",
   "metadata": {
    "hidden": true
   },
   "outputs": [],
   "source": [
    "df_both[:1]"
   ]
  },
  {
   "cell_type": "code",
   "execution_count": null,
   "id": "e112ba0a",
   "metadata": {
    "hidden": true
   },
   "outputs": [],
   "source": [
    "df_both[-2:-1]"
   ]
  },
  {
   "cell_type": "code",
   "execution_count": null,
   "id": "76fa59f2",
   "metadata": {
    "hidden": true
   },
   "outputs": [],
   "source": [
    "print([c for c in list(df_All.columns) if c not in list(df_Combined.columns)])\n",
    "print([c for c in list(df_Combined.columns) if c not in list(df_All.columns)])"
   ]
  },
  {
   "cell_type": "code",
   "execution_count": null,
   "id": "c032a4d0",
   "metadata": {
    "hidden": true
   },
   "outputs": [],
   "source": [
    "df_All.shape, df_Combined.shape"
   ]
  },
  {
   "cell_type": "code",
   "execution_count": null,
   "id": "0b0fd847",
   "metadata": {
    "hidden": true
   },
   "outputs": [],
   "source": [
    "df_All.nunique()"
   ]
  },
  {
   "cell_type": "code",
   "execution_count": null,
   "id": "c07b8cbc",
   "metadata": {
    "hidden": true
   },
   "outputs": [],
   "source": [
    "df_All[~df_All[['Developer', 'Product.Identifier']].duplicated()].shape"
   ]
  },
  {
   "cell_type": "code",
   "execution_count": null,
   "id": "6075834a",
   "metadata": {
    "hidden": true
   },
   "outputs": [],
   "source": [
    "df_All['Developer'].duplicated()"
   ]
  },
  {
   "cell_type": "code",
   "execution_count": null,
   "id": "06e258be",
   "metadata": {
    "hidden": true
   },
   "outputs": [],
   "source": [
    "df_All.head(1)"
   ]
  },
  {
   "cell_type": "code",
   "execution_count": null,
   "id": "67e628be",
   "metadata": {
    "hidden": true
   },
   "outputs": [],
   "source": [
    "df_Combined.head(5)"
   ]
  },
  {
   "cell_type": "code",
   "execution_count": null,
   "id": "e9b3b955",
   "metadata": {
    "hidden": true
   },
   "outputs": [],
   "source": [
    "df_All['#'].values"
   ]
  },
  {
   "cell_type": "code",
   "execution_count": null,
   "id": "50f77024",
   "metadata": {
    "hidden": true
   },
   "outputs": [],
   "source": []
  },
  {
   "cell_type": "code",
   "execution_count": null,
   "id": "957d085e",
   "metadata": {
    "hidden": true
   },
   "outputs": [],
   "source": [
    "df_All.shape"
   ]
  },
  {
   "cell_type": "code",
   "execution_count": null,
   "id": "791332d8",
   "metadata": {
    "hidden": true
   },
   "outputs": [],
   "source": [
    "df_All[df_All['#'].isin(df_Combined['# 1'].values)].shape"
   ]
  },
  {
   "cell_type": "code",
   "execution_count": null,
   "id": "3bcc7222",
   "metadata": {
    "hidden": true
   },
   "outputs": [],
   "source": [
    "df_Combined.nunique()"
   ]
  },
  {
   "cell_type": "code",
   "execution_count": null,
   "id": "67dab1f9",
   "metadata": {
    "hidden": true
   },
   "outputs": [],
   "source": []
  },
  {
   "cell_type": "code",
   "execution_count": null,
   "id": "29f34485",
   "metadata": {
    "hidden": true
   },
   "outputs": [],
   "source": []
  }
 ],
 "metadata": {
  "kernelspec": {
   "display_name": "Python 3 (ipykernel)",
   "language": "python",
   "name": "python3"
  },
  "language_info": {
   "codemirror_mode": {
    "name": "ipython",
    "version": 3
   },
   "file_extension": ".py",
   "mimetype": "text/x-python",
   "name": "python",
   "nbconvert_exporter": "python",
   "pygments_lexer": "ipython3",
   "version": "3.12.3"
  }
 },
 "nbformat": 4,
 "nbformat_minor": 5
}
